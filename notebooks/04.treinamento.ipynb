{
 "cells": [
  {
   "cell_type": "code",
   "execution_count": 1,
   "id": "d39b5486-a8da-4f44-be66-d3da3338c2a1",
   "metadata": {},
   "outputs": [
    {
     "data": {
      "text/html": [
       "<pre style=\"white-space:pre;overflow-x:auto;line-height:normal;font-family:Menlo,'DejaVu Sans Mono',consolas,'Courier New',monospace\"><span style=\"color: #7fbfbf; text-decoration-color: #7fbfbf\">[03/27/25 10:36:05] </span><span style=\"color: #000080; text-decoration-color: #000080\">INFO    </span> Loading data from <span style=\"color: #ff8700; text-decoration-color: #ff8700\">data_train</span> <span style=\"font-weight: bold\">(</span>ParquetDataset<span style=\"font-weight: bold\">)</span><span style=\"color: #808000; text-decoration-color: #808000\">...</span>                   <a href=\"file:///home/rosana/.conda/envs/PD_env_1/lib/python3.11/site-packages/kedro/io/data_catalog.py\" target=\"_blank\"><span style=\"color: #7f7f7f; text-decoration-color: #7f7f7f\">data_catalog.py</span></a><span style=\"color: #7f7f7f; text-decoration-color: #7f7f7f\">:</span><a href=\"file:///home/rosana/.conda/envs/PD_env_1/lib/python3.11/site-packages/kedro/io/data_catalog.py#401\" target=\"_blank\"><span style=\"color: #7f7f7f; text-decoration-color: #7f7f7f\">401</span></a>\n",
       "</pre>\n"
      ],
      "text/plain": [
       "\u001b[2;36m[03/27/25 10:36:05]\u001b[0m\u001b[2;36m \u001b[0m\u001b[34mINFO    \u001b[0m Loading data from \u001b[38;5;208mdata_train\u001b[0m \u001b[1m(\u001b[0mParquetDataset\u001b[1m)\u001b[0m\u001b[33m...\u001b[0m                   \u001b]8;id=681894;file:///home/rosana/.conda/envs/PD_env_1/lib/python3.11/site-packages/kedro/io/data_catalog.py\u001b\\\u001b[2mdata_catalog.py\u001b[0m\u001b]8;;\u001b\\\u001b[2m:\u001b[0m\u001b]8;id=35090;file:///home/rosana/.conda/envs/PD_env_1/lib/python3.11/site-packages/kedro/io/data_catalog.py#401\u001b\\\u001b[2m401\u001b[0m\u001b]8;;\u001b\\\n"
      ]
     },
     "metadata": {},
     "output_type": "display_data"
    }
   ],
   "source": [
    "data_train = catalog.load(\"data_train\")"
   ]
  },
  {
   "cell_type": "code",
   "execution_count": 4,
   "id": "20c6117d-d14b-46b4-9d28-848d212b6463",
   "metadata": {},
   "outputs": [
    {
     "data": {
      "text/html": [
       "<pre style=\"white-space:pre;overflow-x:auto;line-height:normal;font-family:Menlo,'DejaVu Sans Mono',consolas,'Courier New',monospace\"><span style=\"color: #7fbfbf; text-decoration-color: #7fbfbf\">[03/27/25 10:40:07] </span><span style=\"color: #000080; text-decoration-color: #000080\">INFO    </span> Loading data from <span style=\"color: #ff8700; text-decoration-color: #ff8700\">data_test</span> <span style=\"font-weight: bold\">(</span>ParquetDataset<span style=\"font-weight: bold\">)</span><span style=\"color: #808000; text-decoration-color: #808000\">...</span>                    <a href=\"file:///home/rosana/.conda/envs/PD_env_1/lib/python3.11/site-packages/kedro/io/data_catalog.py\" target=\"_blank\"><span style=\"color: #7f7f7f; text-decoration-color: #7f7f7f\">data_catalog.py</span></a><span style=\"color: #7f7f7f; text-decoration-color: #7f7f7f\">:</span><a href=\"file:///home/rosana/.conda/envs/PD_env_1/lib/python3.11/site-packages/kedro/io/data_catalog.py#401\" target=\"_blank\"><span style=\"color: #7f7f7f; text-decoration-color: #7f7f7f\">401</span></a>\n",
       "</pre>\n"
      ],
      "text/plain": [
       "\u001b[2;36m[03/27/25 10:40:07]\u001b[0m\u001b[2;36m \u001b[0m\u001b[34mINFO    \u001b[0m Loading data from \u001b[38;5;208mdata_test\u001b[0m \u001b[1m(\u001b[0mParquetDataset\u001b[1m)\u001b[0m\u001b[33m...\u001b[0m                    \u001b]8;id=672069;file:///home/rosana/.conda/envs/PD_env_1/lib/python3.11/site-packages/kedro/io/data_catalog.py\u001b\\\u001b[2mdata_catalog.py\u001b[0m\u001b]8;;\u001b\\\u001b[2m:\u001b[0m\u001b]8;id=675258;file:///home/rosana/.conda/envs/PD_env_1/lib/python3.11/site-packages/kedro/io/data_catalog.py#401\u001b\\\u001b[2m401\u001b[0m\u001b]8;;\u001b\\\n"
      ]
     },
     "metadata": {},
     "output_type": "display_data"
    },
    {
     "data": {
      "text/html": [
       "<pre style=\"white-space:pre;overflow-x:auto;line-height:normal;font-family:Menlo,'DejaVu Sans Mono',consolas,'Courier New',monospace\"></pre>\n"
      ],
      "text/plain": []
     },
     "metadata": {},
     "output_type": "display_data"
    },
    {
     "data": {
      "text/html": [
       "<div>\n",
       "<style scoped>\n",
       "    .dataframe tbody tr th:only-of-type {\n",
       "        vertical-align: middle;\n",
       "    }\n",
       "\n",
       "    .dataframe tbody tr th {\n",
       "        vertical-align: top;\n",
       "    }\n",
       "\n",
       "    .dataframe thead th {\n",
       "        text-align: right;\n",
       "    }\n",
       "</style>\n",
       "<table border=\"1\" class=\"dataframe\">\n",
       "  <thead>\n",
       "    <tr style=\"text-align: right;\">\n",
       "      <th></th>\n",
       "      <th>minutes_remaining</th>\n",
       "      <th>period</th>\n",
       "      <th>playoffs</th>\n",
       "      <th>shot_distance</th>\n",
       "      <th>lat_quadra</th>\n",
       "      <th>lon_quadra</th>\n",
       "      <th>shot_made_flag</th>\n",
       "    </tr>\n",
       "  </thead>\n",
       "  <tbody>\n",
       "    <tr>\n",
       "      <th>13437</th>\n",
       "      <td>4</td>\n",
       "      <td>2</td>\n",
       "      <td>False</td>\n",
       "      <td>6</td>\n",
       "      <td>-0.060</td>\n",
       "      <td>0.007</td>\n",
       "      <td>True</td>\n",
       "    </tr>\n",
       "    <tr>\n",
       "      <th>13618</th>\n",
       "      <td>7</td>\n",
       "      <td>1</td>\n",
       "      <td>False</td>\n",
       "      <td>7</td>\n",
       "      <td>-0.067</td>\n",
       "      <td>0.026</td>\n",
       "      <td>False</td>\n",
       "    </tr>\n",
       "    <tr>\n",
       "      <th>7918</th>\n",
       "      <td>10</td>\n",
       "      <td>3</td>\n",
       "      <td>False</td>\n",
       "      <td>18</td>\n",
       "      <td>-0.115</td>\n",
       "      <td>0.149</td>\n",
       "      <td>False</td>\n",
       "    </tr>\n",
       "    <tr>\n",
       "      <th>704</th>\n",
       "      <td>5</td>\n",
       "      <td>2</td>\n",
       "      <td>False</td>\n",
       "      <td>0</td>\n",
       "      <td>0.000</td>\n",
       "      <td>0.000</td>\n",
       "      <td>False</td>\n",
       "    </tr>\n",
       "    <tr>\n",
       "      <th>14038</th>\n",
       "      <td>6</td>\n",
       "      <td>1</td>\n",
       "      <td>False</td>\n",
       "      <td>22</td>\n",
       "      <td>-0.214</td>\n",
       "      <td>-0.068</td>\n",
       "      <td>False</td>\n",
       "    </tr>\n",
       "    <tr>\n",
       "      <th>...</th>\n",
       "      <td>...</td>\n",
       "      <td>...</td>\n",
       "      <td>...</td>\n",
       "      <td>...</td>\n",
       "      <td>...</td>\n",
       "      <td>...</td>\n",
       "      <td>...</td>\n",
       "    </tr>\n",
       "    <tr>\n",
       "      <th>15813</th>\n",
       "      <td>4</td>\n",
       "      <td>3</td>\n",
       "      <td>False</td>\n",
       "      <td>11</td>\n",
       "      <td>-0.070</td>\n",
       "      <td>-0.094</td>\n",
       "      <td>False</td>\n",
       "    </tr>\n",
       "    <tr>\n",
       "      <th>5769</th>\n",
       "      <td>5</td>\n",
       "      <td>2</td>\n",
       "      <td>False</td>\n",
       "      <td>15</td>\n",
       "      <td>0.031</td>\n",
       "      <td>0.153</td>\n",
       "      <td>False</td>\n",
       "    </tr>\n",
       "    <tr>\n",
       "      <th>5570</th>\n",
       "      <td>11</td>\n",
       "      <td>1</td>\n",
       "      <td>False</td>\n",
       "      <td>13</td>\n",
       "      <td>-0.053</td>\n",
       "      <td>-0.120</td>\n",
       "      <td>False</td>\n",
       "    </tr>\n",
       "    <tr>\n",
       "      <th>13374</th>\n",
       "      <td>5</td>\n",
       "      <td>2</td>\n",
       "      <td>False</td>\n",
       "      <td>14</td>\n",
       "      <td>-0.132</td>\n",
       "      <td>0.070</td>\n",
       "      <td>True</td>\n",
       "    </tr>\n",
       "    <tr>\n",
       "      <th>4479</th>\n",
       "      <td>11</td>\n",
       "      <td>3</td>\n",
       "      <td>False</td>\n",
       "      <td>15</td>\n",
       "      <td>0.009</td>\n",
       "      <td>-0.156</td>\n",
       "      <td>True</td>\n",
       "    </tr>\n",
       "  </tbody>\n",
       "</table>\n",
       "<p>4057 rows × 7 columns</p>\n",
       "</div>"
      ],
      "text/plain": [
       "\n",
       "       minutes_remaining  period  playoffs  shot_distance  lat_quadra  \\\n",
       "\u001b[1;36m13437\u001b[0m                  \u001b[1;36m4\u001b[0m       \u001b[1;36m2\u001b[0m     \u001b[3;91mFalse\u001b[0m              \u001b[1;36m6\u001b[0m      \u001b[1;36m-0.060\u001b[0m   \n",
       "\u001b[1;36m13618\u001b[0m                  \u001b[1;36m7\u001b[0m       \u001b[1;36m1\u001b[0m     \u001b[3;91mFalse\u001b[0m              \u001b[1;36m7\u001b[0m      \u001b[1;36m-0.067\u001b[0m   \n",
       "\u001b[1;36m7918\u001b[0m                  \u001b[1;36m10\u001b[0m       \u001b[1;36m3\u001b[0m     \u001b[3;91mFalse\u001b[0m             \u001b[1;36m18\u001b[0m      \u001b[1;36m-0.115\u001b[0m   \n",
       "\u001b[1;36m704\u001b[0m                    \u001b[1;36m5\u001b[0m       \u001b[1;36m2\u001b[0m     \u001b[3;91mFalse\u001b[0m              \u001b[1;36m0\u001b[0m       \u001b[1;36m0.000\u001b[0m   \n",
       "\u001b[1;36m14038\u001b[0m                  \u001b[1;36m6\u001b[0m       \u001b[1;36m1\u001b[0m     \u001b[3;91mFalse\u001b[0m             \u001b[1;36m22\u001b[0m      \u001b[1;36m-0.214\u001b[0m   \n",
       "\u001b[33m...\u001b[0m                  \u001b[33m...\u001b[0m     \u001b[33m...\u001b[0m       \u001b[33m...\u001b[0m            \u001b[33m...\u001b[0m         \u001b[33m...\u001b[0m   \n",
       "\u001b[1;36m15813\u001b[0m                  \u001b[1;36m4\u001b[0m       \u001b[1;36m3\u001b[0m     \u001b[3;91mFalse\u001b[0m             \u001b[1;36m11\u001b[0m      \u001b[1;36m-0.070\u001b[0m   \n",
       "\u001b[1;36m5769\u001b[0m                   \u001b[1;36m5\u001b[0m       \u001b[1;36m2\u001b[0m     \u001b[3;91mFalse\u001b[0m             \u001b[1;36m15\u001b[0m       \u001b[1;36m0.031\u001b[0m   \n",
       "\u001b[1;36m5570\u001b[0m                  \u001b[1;36m11\u001b[0m       \u001b[1;36m1\u001b[0m     \u001b[3;91mFalse\u001b[0m             \u001b[1;36m13\u001b[0m      \u001b[1;36m-0.053\u001b[0m   \n",
       "\u001b[1;36m13374\u001b[0m                  \u001b[1;36m5\u001b[0m       \u001b[1;36m2\u001b[0m     \u001b[3;91mFalse\u001b[0m             \u001b[1;36m14\u001b[0m      \u001b[1;36m-0.132\u001b[0m   \n",
       "\u001b[1;36m4479\u001b[0m                  \u001b[1;36m11\u001b[0m       \u001b[1;36m3\u001b[0m     \u001b[3;91mFalse\u001b[0m             \u001b[1;36m15\u001b[0m       \u001b[1;36m0.009\u001b[0m   \n",
       "\n",
       "       lon_quadra  shot_made_flag  \n",
       "\u001b[1;36m13437\u001b[0m       \u001b[1;36m0.007\u001b[0m            \u001b[3;92mTrue\u001b[0m  \n",
       "\u001b[1;36m13618\u001b[0m       \u001b[1;36m0.026\u001b[0m           \u001b[3;91mFalse\u001b[0m  \n",
       "\u001b[1;36m7918\u001b[0m        \u001b[1;36m0.149\u001b[0m           \u001b[3;91mFalse\u001b[0m  \n",
       "\u001b[1;36m704\u001b[0m         \u001b[1;36m0.000\u001b[0m           \u001b[3;91mFalse\u001b[0m  \n",
       "\u001b[1;36m14038\u001b[0m      \u001b[1;36m-0.068\u001b[0m           \u001b[3;91mFalse\u001b[0m  \n",
       "\u001b[33m...\u001b[0m           \u001b[33m...\u001b[0m             \u001b[33m...\u001b[0m  \n",
       "\u001b[1;36m15813\u001b[0m      \u001b[1;36m-0.094\u001b[0m           \u001b[3;91mFalse\u001b[0m  \n",
       "\u001b[1;36m5769\u001b[0m        \u001b[1;36m0.153\u001b[0m           \u001b[3;91mFalse\u001b[0m  \n",
       "\u001b[1;36m5570\u001b[0m       \u001b[1;36m-0.120\u001b[0m           \u001b[3;91mFalse\u001b[0m  \n",
       "\u001b[1;36m13374\u001b[0m       \u001b[1;36m0.070\u001b[0m            \u001b[3;92mTrue\u001b[0m  \n",
       "\u001b[1;36m4479\u001b[0m       \u001b[1;36m-0.156\u001b[0m            \u001b[3;92mTrue\u001b[0m  \n",
       "\n",
       "\u001b[1m[\u001b[0m\u001b[1;36m4057\u001b[0m rows x \u001b[1;36m7\u001b[0m columns\u001b[1m]\u001b[0m"
      ]
     },
     "execution_count": 4,
     "metadata": {},
     "output_type": "execute_result"
    }
   ],
   "source": [
    "data_test = catalog.load(\"data_test\")\n",
    "data_test"
   ]
  },
  {
   "cell_type": "code",
   "execution_count": 7,
   "id": "3c631739-f4e6-4051-b257-ef0453cc3b6e",
   "metadata": {},
   "outputs": [],
   "source": [
    "data_train_x = data_train.drop('shot_made_flag', axis=1)\n",
    "data_train_y = data_train[['shot_made_flag']]\n",
    "\n",
    "data_test_x = data_test.drop('shot_made_flag', axis=1)\n",
    "data_test_y = data_test[['shot_made_flag']]"
   ]
  },
  {
   "cell_type": "code",
   "execution_count": 10,
   "id": "3bf63836-a8fd-465b-831f-7d01c2a5ca09",
   "metadata": {},
   "outputs": [
    {
     "data": {
      "text/html": [
       "<pre style=\"white-space:pre;overflow-x:auto;line-height:normal;font-family:Menlo,'DejaVu Sans Mono',consolas,'Courier New',monospace\"></pre>\n"
      ],
      "text/plain": []
     },
     "metadata": {},
     "output_type": "display_data"
    },
    {
     "data": {
      "text/html": [
       "<style type=\"text/css\">\n",
       "#T_98d0d_row8_col1 {\n",
       "  background-color: lightgreen;\n",
       "}\n",
       "</style>\n",
       "<table id=\"T_98d0d\">\n",
       "  <thead>\n",
       "    <tr>\n",
       "      <th class=\"blank level0\" >&nbsp;</th>\n",
       "      <th id=\"T_98d0d_level0_col0\" class=\"col_heading level0 col0\" >Description</th>\n",
       "      <th id=\"T_98d0d_level0_col1\" class=\"col_heading level0 col1\" >Value</th>\n",
       "    </tr>\n",
       "  </thead>\n",
       "  <tbody>\n",
       "    <tr>\n",
       "      <th id=\"T_98d0d_level0_row0\" class=\"row_heading level0 row0\" >0</th>\n",
       "      <td id=\"T_98d0d_row0_col0\" class=\"data row0 col0\" >Session id</td>\n",
       "      <td id=\"T_98d0d_row0_col1\" class=\"data row0 col1\" >1234</td>\n",
       "    </tr>\n",
       "    <tr>\n",
       "      <th id=\"T_98d0d_level0_row1\" class=\"row_heading level0 row1\" >1</th>\n",
       "      <td id=\"T_98d0d_row1_col0\" class=\"data row1 col0\" >Target</td>\n",
       "      <td id=\"T_98d0d_row1_col1\" class=\"data row1 col1\" >shot_made_flag</td>\n",
       "    </tr>\n",
       "    <tr>\n",
       "      <th id=\"T_98d0d_level0_row2\" class=\"row_heading level0 row2\" >2</th>\n",
       "      <td id=\"T_98d0d_row2_col0\" class=\"data row2 col0\" >Target type</td>\n",
       "      <td id=\"T_98d0d_row2_col1\" class=\"data row2 col1\" >Binary</td>\n",
       "    </tr>\n",
       "    <tr>\n",
       "      <th id=\"T_98d0d_level0_row3\" class=\"row_heading level0 row3\" >3</th>\n",
       "      <td id=\"T_98d0d_row3_col0\" class=\"data row3 col0\" >Original data shape</td>\n",
       "      <td id=\"T_98d0d_row3_col1\" class=\"data row3 col1\" >(16228, 7)</td>\n",
       "    </tr>\n",
       "    <tr>\n",
       "      <th id=\"T_98d0d_level0_row4\" class=\"row_heading level0 row4\" >4</th>\n",
       "      <td id=\"T_98d0d_row4_col0\" class=\"data row4 col0\" >Transformed data shape</td>\n",
       "      <td id=\"T_98d0d_row4_col1\" class=\"data row4 col1\" >(16228, 7)</td>\n",
       "    </tr>\n",
       "    <tr>\n",
       "      <th id=\"T_98d0d_level0_row5\" class=\"row_heading level0 row5\" >5</th>\n",
       "      <td id=\"T_98d0d_row5_col0\" class=\"data row5 col0\" >Transformed train set shape</td>\n",
       "      <td id=\"T_98d0d_row5_col1\" class=\"data row5 col1\" >(11359, 7)</td>\n",
       "    </tr>\n",
       "    <tr>\n",
       "      <th id=\"T_98d0d_level0_row6\" class=\"row_heading level0 row6\" >6</th>\n",
       "      <td id=\"T_98d0d_row6_col0\" class=\"data row6 col0\" >Transformed test set shape</td>\n",
       "      <td id=\"T_98d0d_row6_col1\" class=\"data row6 col1\" >(4869, 7)</td>\n",
       "    </tr>\n",
       "    <tr>\n",
       "      <th id=\"T_98d0d_level0_row7\" class=\"row_heading level0 row7\" >7</th>\n",
       "      <td id=\"T_98d0d_row7_col0\" class=\"data row7 col0\" >Numeric features</td>\n",
       "      <td id=\"T_98d0d_row7_col1\" class=\"data row7 col1\" >5</td>\n",
       "    </tr>\n",
       "    <tr>\n",
       "      <th id=\"T_98d0d_level0_row8\" class=\"row_heading level0 row8\" >8</th>\n",
       "      <td id=\"T_98d0d_row8_col0\" class=\"data row8 col0\" >Preprocess</td>\n",
       "      <td id=\"T_98d0d_row8_col1\" class=\"data row8 col1\" >True</td>\n",
       "    </tr>\n",
       "    <tr>\n",
       "      <th id=\"T_98d0d_level0_row9\" class=\"row_heading level0 row9\" >9</th>\n",
       "      <td id=\"T_98d0d_row9_col0\" class=\"data row9 col0\" >Imputation type</td>\n",
       "      <td id=\"T_98d0d_row9_col1\" class=\"data row9 col1\" >simple</td>\n",
       "    </tr>\n",
       "    <tr>\n",
       "      <th id=\"T_98d0d_level0_row10\" class=\"row_heading level0 row10\" >10</th>\n",
       "      <td id=\"T_98d0d_row10_col0\" class=\"data row10 col0\" >Numeric imputation</td>\n",
       "      <td id=\"T_98d0d_row10_col1\" class=\"data row10 col1\" >mean</td>\n",
       "    </tr>\n",
       "    <tr>\n",
       "      <th id=\"T_98d0d_level0_row11\" class=\"row_heading level0 row11\" >11</th>\n",
       "      <td id=\"T_98d0d_row11_col0\" class=\"data row11 col0\" >Categorical imputation</td>\n",
       "      <td id=\"T_98d0d_row11_col1\" class=\"data row11 col1\" >mode</td>\n",
       "    </tr>\n",
       "    <tr>\n",
       "      <th id=\"T_98d0d_level0_row12\" class=\"row_heading level0 row12\" >12</th>\n",
       "      <td id=\"T_98d0d_row12_col0\" class=\"data row12 col0\" >Fold Generator</td>\n",
       "      <td id=\"T_98d0d_row12_col1\" class=\"data row12 col1\" >StratifiedKFold</td>\n",
       "    </tr>\n",
       "    <tr>\n",
       "      <th id=\"T_98d0d_level0_row13\" class=\"row_heading level0 row13\" >13</th>\n",
       "      <td id=\"T_98d0d_row13_col0\" class=\"data row13 col0\" >Fold Number</td>\n",
       "      <td id=\"T_98d0d_row13_col1\" class=\"data row13 col1\" >10</td>\n",
       "    </tr>\n",
       "    <tr>\n",
       "      <th id=\"T_98d0d_level0_row14\" class=\"row_heading level0 row14\" >14</th>\n",
       "      <td id=\"T_98d0d_row14_col0\" class=\"data row14 col0\" >CPU Jobs</td>\n",
       "      <td id=\"T_98d0d_row14_col1\" class=\"data row14 col1\" >-1</td>\n",
       "    </tr>\n",
       "    <tr>\n",
       "      <th id=\"T_98d0d_level0_row15\" class=\"row_heading level0 row15\" >15</th>\n",
       "      <td id=\"T_98d0d_row15_col0\" class=\"data row15 col0\" >Use GPU</td>\n",
       "      <td id=\"T_98d0d_row15_col1\" class=\"data row15 col1\" >False</td>\n",
       "    </tr>\n",
       "    <tr>\n",
       "      <th id=\"T_98d0d_level0_row16\" class=\"row_heading level0 row16\" >16</th>\n",
       "      <td id=\"T_98d0d_row16_col0\" class=\"data row16 col0\" >Log Experiment</td>\n",
       "      <td id=\"T_98d0d_row16_col1\" class=\"data row16 col1\" >False</td>\n",
       "    </tr>\n",
       "    <tr>\n",
       "      <th id=\"T_98d0d_level0_row17\" class=\"row_heading level0 row17\" >17</th>\n",
       "      <td id=\"T_98d0d_row17_col0\" class=\"data row17 col0\" >Experiment Name</td>\n",
       "      <td id=\"T_98d0d_row17_col1\" class=\"data row17 col1\" >clf-default-name</td>\n",
       "    </tr>\n",
       "    <tr>\n",
       "      <th id=\"T_98d0d_level0_row18\" class=\"row_heading level0 row18\" >18</th>\n",
       "      <td id=\"T_98d0d_row18_col0\" class=\"data row18 col0\" >USI</td>\n",
       "      <td id=\"T_98d0d_row18_col1\" class=\"data row18 col1\" >a0f3</td>\n",
       "    </tr>\n",
       "  </tbody>\n",
       "</table>\n"
      ],
      "text/plain": [
       "\u001b[1m<\u001b[0m\u001b[1;95mpandas.io.formats.style.Styler\u001b[0m\u001b[39m object at \u001b[0m\u001b[1;36m0x7fb0c179a750\u001b[0m\u001b[1m>\u001b[0m"
      ]
     },
     "metadata": {},
     "output_type": "display_data"
    },
    {
     "data": {
      "text/html": [
       "<pre style=\"white-space:pre;overflow-x:auto;line-height:normal;font-family:Menlo,'DejaVu Sans Mono',consolas,'Courier New',monospace\"></pre>\n"
      ],
      "text/plain": []
     },
     "metadata": {},
     "output_type": "display_data"
    },
    {
     "data": {
      "text/html": [
       "<pre style=\"white-space:pre;overflow-x:auto;line-height:normal;font-family:Menlo,'DejaVu Sans Mono',consolas,'Courier New',monospace\"></pre>\n"
      ],
      "text/plain": []
     },
     "metadata": {},
     "output_type": "display_data"
    },
    {
     "data": {
      "text/html": [],
      "text/plain": [
       "\u001b[1m<\u001b[0m\u001b[1;95mIPython.core.display.HTML\u001b[0m\u001b[39m object\u001b[0m\u001b[1m>\u001b[0m"
      ]
     },
     "metadata": {},
     "output_type": "display_data"
    },
    {
     "data": {
      "text/html": [
       "<pre style=\"white-space:pre;overflow-x:auto;line-height:normal;font-family:Menlo,'DejaVu Sans Mono',consolas,'Courier New',monospace\"></pre>\n"
      ],
      "text/plain": []
     },
     "metadata": {},
     "output_type": "display_data"
    },
    {
     "data": {
      "text/html": [
       "<style type=\"text/css\">\n",
       "#T_5eef0_row10_col0, #T_5eef0_row10_col1, #T_5eef0_row10_col2, #T_5eef0_row10_col3, #T_5eef0_row10_col4, #T_5eef0_row10_col5, #T_5eef0_row10_col6 {\n",
       "  background: yellow;\n",
       "}\n",
       "</style>\n",
       "<table id=\"T_5eef0\">\n",
       "  <thead>\n",
       "    <tr>\n",
       "      <th class=\"blank level0\" >&nbsp;</th>\n",
       "      <th id=\"T_5eef0_level0_col0\" class=\"col_heading level0 col0\" >Accuracy</th>\n",
       "      <th id=\"T_5eef0_level0_col1\" class=\"col_heading level0 col1\" >AUC</th>\n",
       "      <th id=\"T_5eef0_level0_col2\" class=\"col_heading level0 col2\" >Recall</th>\n",
       "      <th id=\"T_5eef0_level0_col3\" class=\"col_heading level0 col3\" >Prec.</th>\n",
       "      <th id=\"T_5eef0_level0_col4\" class=\"col_heading level0 col4\" >F1</th>\n",
       "      <th id=\"T_5eef0_level0_col5\" class=\"col_heading level0 col5\" >Kappa</th>\n",
       "      <th id=\"T_5eef0_level0_col6\" class=\"col_heading level0 col6\" >MCC</th>\n",
       "    </tr>\n",
       "    <tr>\n",
       "      <th class=\"index_name level0\" >Fold</th>\n",
       "      <th class=\"blank col0\" >&nbsp;</th>\n",
       "      <th class=\"blank col1\" >&nbsp;</th>\n",
       "      <th class=\"blank col2\" >&nbsp;</th>\n",
       "      <th class=\"blank col3\" >&nbsp;</th>\n",
       "      <th class=\"blank col4\" >&nbsp;</th>\n",
       "      <th class=\"blank col5\" >&nbsp;</th>\n",
       "      <th class=\"blank col6\" >&nbsp;</th>\n",
       "    </tr>\n",
       "  </thead>\n",
       "  <tbody>\n",
       "    <tr>\n",
       "      <th id=\"T_5eef0_level0_row0\" class=\"row_heading level0 row0\" >0</th>\n",
       "      <td id=\"T_5eef0_row0_col0\" class=\"data row0 col0\" >0.5290</td>\n",
       "      <td id=\"T_5eef0_row0_col1\" class=\"data row0 col1\" >0.5091</td>\n",
       "      <td id=\"T_5eef0_row0_col2\" class=\"data row0 col2\" >0.5923</td>\n",
       "      <td id=\"T_5eef0_row0_col3\" class=\"data row0 col3\" >0.5055</td>\n",
       "      <td id=\"T_5eef0_row0_col4\" class=\"data row0 col4\" >0.5455</td>\n",
       "      <td id=\"T_5eef0_row0_col5\" class=\"data row0 col5\" >0.0632</td>\n",
       "      <td id=\"T_5eef0_row0_col6\" class=\"data row0 col6\" >0.0640</td>\n",
       "    </tr>\n",
       "    <tr>\n",
       "      <th id=\"T_5eef0_level0_row1\" class=\"row_heading level0 row1\" >1</th>\n",
       "      <td id=\"T_5eef0_row1_col0\" class=\"data row1 col0\" >0.5290</td>\n",
       "      <td id=\"T_5eef0_row1_col1\" class=\"data row1 col1\" >0.5113</td>\n",
       "      <td id=\"T_5eef0_row1_col2\" class=\"data row1 col2\" >0.5756</td>\n",
       "      <td id=\"T_5eef0_row1_col3\" class=\"data row1 col3\" >0.5057</td>\n",
       "      <td id=\"T_5eef0_row1_col4\" class=\"data row1 col4\" >0.5384</td>\n",
       "      <td id=\"T_5eef0_row1_col5\" class=\"data row1 col5\" >0.0618</td>\n",
       "      <td id=\"T_5eef0_row1_col6\" class=\"data row1 col6\" >0.0623</td>\n",
       "    </tr>\n",
       "    <tr>\n",
       "      <th id=\"T_5eef0_level0_row2\" class=\"row_heading level0 row2\" >2</th>\n",
       "      <td id=\"T_5eef0_row2_col0\" class=\"data row2 col0\" >0.5044</td>\n",
       "      <td id=\"T_5eef0_row2_col1\" class=\"data row2 col1\" >0.4851</td>\n",
       "      <td id=\"T_5eef0_row2_col2\" class=\"data row2 col2\" >0.5406</td>\n",
       "      <td id=\"T_5eef0_row2_col3\" class=\"data row2 col3\" >0.4827</td>\n",
       "      <td id=\"T_5eef0_row2_col4\" class=\"data row2 col4\" >0.5100</td>\n",
       "      <td id=\"T_5eef0_row2_col5\" class=\"data row2 col5\" >0.0119</td>\n",
       "      <td id=\"T_5eef0_row2_col6\" class=\"data row2 col6\" >0.0120</td>\n",
       "    </tr>\n",
       "    <tr>\n",
       "      <th id=\"T_5eef0_level0_row3\" class=\"row_heading level0 row3\" >3</th>\n",
       "      <td id=\"T_5eef0_row3_col0\" class=\"data row3 col0\" >0.5396</td>\n",
       "      <td id=\"T_5eef0_row3_col1\" class=\"data row3 col1\" >0.5242</td>\n",
       "      <td id=\"T_5eef0_row3_col2\" class=\"data row3 col2\" >0.5738</td>\n",
       "      <td id=\"T_5eef0_row3_col3\" class=\"data row3 col3\" >0.5158</td>\n",
       "      <td id=\"T_5eef0_row3_col4\" class=\"data row3 col4\" >0.5432</td>\n",
       "      <td id=\"T_5eef0_row3_col5\" class=\"data row3 col5\" >0.0818</td>\n",
       "      <td id=\"T_5eef0_row3_col6\" class=\"data row3 col6\" >0.0823</td>\n",
       "    </tr>\n",
       "    <tr>\n",
       "      <th id=\"T_5eef0_level0_row4\" class=\"row_heading level0 row4\" >4</th>\n",
       "      <td id=\"T_5eef0_row4_col0\" class=\"data row4 col0\" >0.5379</td>\n",
       "      <td id=\"T_5eef0_row4_col1\" class=\"data row4 col1\" >0.5289</td>\n",
       "      <td id=\"T_5eef0_row4_col2\" class=\"data row4 col2\" >0.5572</td>\n",
       "      <td id=\"T_5eef0_row4_col3\" class=\"data row4 col3\" >0.5145</td>\n",
       "      <td id=\"T_5eef0_row4_col4\" class=\"data row4 col4\" >0.5350</td>\n",
       "      <td id=\"T_5eef0_row4_col5\" class=\"data row4 col5\" >0.0771</td>\n",
       "      <td id=\"T_5eef0_row4_col6\" class=\"data row4 col6\" >0.0774</td>\n",
       "    </tr>\n",
       "    <tr>\n",
       "      <th id=\"T_5eef0_level0_row5\" class=\"row_heading level0 row5\" >5</th>\n",
       "      <td id=\"T_5eef0_row5_col0\" class=\"data row5 col0\" >0.5405</td>\n",
       "      <td id=\"T_5eef0_row5_col1\" class=\"data row5 col1\" >0.5146</td>\n",
       "      <td id=\"T_5eef0_row5_col2\" class=\"data row5 col2\" >0.5756</td>\n",
       "      <td id=\"T_5eef0_row5_col3\" class=\"data row5 col3\" >0.5166</td>\n",
       "      <td id=\"T_5eef0_row5_col4\" class=\"data row5 col4\" >0.5445</td>\n",
       "      <td id=\"T_5eef0_row5_col5\" class=\"data row5 col5\" >0.0836</td>\n",
       "      <td id=\"T_5eef0_row5_col6\" class=\"data row5 col6\" >0.0841</td>\n",
       "    </tr>\n",
       "    <tr>\n",
       "      <th id=\"T_5eef0_level0_row6\" class=\"row_heading level0 row6\" >6</th>\n",
       "      <td id=\"T_5eef0_row6_col0\" class=\"data row6 col0\" >0.5449</td>\n",
       "      <td id=\"T_5eef0_row6_col1\" class=\"data row6 col1\" >0.5228</td>\n",
       "      <td id=\"T_5eef0_row6_col2\" class=\"data row6 col2\" >0.5867</td>\n",
       "      <td id=\"T_5eef0_row6_col3\" class=\"data row6 col3\" >0.5205</td>\n",
       "      <td id=\"T_5eef0_row6_col4\" class=\"data row6 col4\" >0.5516</td>\n",
       "      <td id=\"T_5eef0_row6_col5\" class=\"data row6 col5\" >0.0929</td>\n",
       "      <td id=\"T_5eef0_row6_col6\" class=\"data row6 col6\" >0.0936</td>\n",
       "    </tr>\n",
       "    <tr>\n",
       "      <th id=\"T_5eef0_level0_row7\" class=\"row_heading level0 row7\" >7</th>\n",
       "      <td id=\"T_5eef0_row7_col0\" class=\"data row7 col0\" >0.5238</td>\n",
       "      <td id=\"T_5eef0_row7_col1\" class=\"data row7 col1\" >0.4969</td>\n",
       "      <td id=\"T_5eef0_row7_col2\" class=\"data row7 col2\" >0.6004</td>\n",
       "      <td id=\"T_5eef0_row7_col3\" class=\"data row7 col3\" >0.5015</td>\n",
       "      <td id=\"T_5eef0_row7_col4\" class=\"data row7 col4\" >0.5465</td>\n",
       "      <td id=\"T_5eef0_row7_col5\" class=\"data row7 col5\" >0.0535</td>\n",
       "      <td id=\"T_5eef0_row7_col6\" class=\"data row7 col6\" >0.0545</td>\n",
       "    </tr>\n",
       "    <tr>\n",
       "      <th id=\"T_5eef0_level0_row8\" class=\"row_heading level0 row8\" >8</th>\n",
       "      <td id=\"T_5eef0_row8_col0\" class=\"data row8 col0\" >0.5211</td>\n",
       "      <td id=\"T_5eef0_row8_col1\" class=\"data row8 col1\" >0.5070</td>\n",
       "      <td id=\"T_5eef0_row8_col2\" class=\"data row8 col2\" >0.5709</td>\n",
       "      <td id=\"T_5eef0_row8_col3\" class=\"data row8 col3\" >0.4992</td>\n",
       "      <td id=\"T_5eef0_row8_col4\" class=\"data row8 col4\" >0.5326</td>\n",
       "      <td id=\"T_5eef0_row8_col5\" class=\"data row8 col5\" >0.0462</td>\n",
       "      <td id=\"T_5eef0_row8_col6\" class=\"data row8 col6\" >0.0466</td>\n",
       "    </tr>\n",
       "    <tr>\n",
       "      <th id=\"T_5eef0_level0_row9\" class=\"row_heading level0 row9\" >9</th>\n",
       "      <td id=\"T_5eef0_row9_col0\" class=\"data row9 col0\" >0.5119</td>\n",
       "      <td id=\"T_5eef0_row9_col1\" class=\"data row9 col1\" >0.4873</td>\n",
       "      <td id=\"T_5eef0_row9_col2\" class=\"data row9 col2\" >0.5590</td>\n",
       "      <td id=\"T_5eef0_row9_col3\" class=\"data row9 col3\" >0.4903</td>\n",
       "      <td id=\"T_5eef0_row9_col4\" class=\"data row9 col4\" >0.5224</td>\n",
       "      <td id=\"T_5eef0_row9_col5\" class=\"data row9 col5\" >0.0277</td>\n",
       "      <td id=\"T_5eef0_row9_col6\" class=\"data row9 col6\" >0.0279</td>\n",
       "    </tr>\n",
       "    <tr>\n",
       "      <th id=\"T_5eef0_level0_row10\" class=\"row_heading level0 row10\" >Mean</th>\n",
       "      <td id=\"T_5eef0_row10_col0\" class=\"data row10 col0\" >0.5282</td>\n",
       "      <td id=\"T_5eef0_row10_col1\" class=\"data row10 col1\" >0.5087</td>\n",
       "      <td id=\"T_5eef0_row10_col2\" class=\"data row10 col2\" >0.5732</td>\n",
       "      <td id=\"T_5eef0_row10_col3\" class=\"data row10 col3\" >0.5052</td>\n",
       "      <td id=\"T_5eef0_row10_col4\" class=\"data row10 col4\" >0.5370</td>\n",
       "      <td id=\"T_5eef0_row10_col5\" class=\"data row10 col5\" >0.0600</td>\n",
       "      <td id=\"T_5eef0_row10_col6\" class=\"data row10 col6\" >0.0605</td>\n",
       "    </tr>\n",
       "    <tr>\n",
       "      <th id=\"T_5eef0_level0_row11\" class=\"row_heading level0 row11\" >Std</th>\n",
       "      <td id=\"T_5eef0_row11_col0\" class=\"data row11 col0\" >0.0125</td>\n",
       "      <td id=\"T_5eef0_row11_col1\" class=\"data row11 col1\" >0.0143</td>\n",
       "      <td id=\"T_5eef0_row11_col2\" class=\"data row11 col2\" >0.0168</td>\n",
       "      <td id=\"T_5eef0_row11_col3\" class=\"data row11 col3\" >0.0116</td>\n",
       "      <td id=\"T_5eef0_row11_col4\" class=\"data row11 col4\" >0.0120</td>\n",
       "      <td id=\"T_5eef0_row11_col5\" class=\"data row11 col5\" >0.0245</td>\n",
       "      <td id=\"T_5eef0_row11_col6\" class=\"data row11 col6\" >0.0246</td>\n",
       "    </tr>\n",
       "  </tbody>\n",
       "</table>\n"
      ],
      "text/plain": [
       "\u001b[1m<\u001b[0m\u001b[1;95mpandas.io.formats.style.Styler\u001b[0m\u001b[39m object at \u001b[0m\u001b[1;36m0x7fb0c191d710\u001b[0m\u001b[1m>\u001b[0m"
      ]
     },
     "metadata": {},
     "output_type": "display_data"
    },
    {
     "data": {
      "text/html": [],
      "text/plain": [
       "\u001b[1m<\u001b[0m\u001b[1;95mIPython.core.display.HTML\u001b[0m\u001b[39m object\u001b[0m\u001b[1m>\u001b[0m"
      ]
     },
     "metadata": {},
     "output_type": "display_data"
    },
    {
     "data": {
      "text/html": [
       "<pre style=\"white-space:pre;overflow-x:auto;line-height:normal;font-family:Menlo,'DejaVu Sans Mono',consolas,'Courier New',monospace\"></pre>\n"
      ],
      "text/plain": []
     },
     "metadata": {},
     "output_type": "display_data"
    },
    {
     "data": {
      "text/html": [
       "<pre style=\"white-space:pre;overflow-x:auto;line-height:normal;font-family:Menlo,'DejaVu Sans Mono',consolas,'Courier New',monospace\"></pre>\n"
      ],
      "text/plain": []
     },
     "metadata": {},
     "output_type": "display_data"
    },
    {
     "data": {
      "text/html": [
       "<pre style=\"white-space:pre;overflow-x:auto;line-height:normal;font-family:Menlo,'DejaVu Sans Mono',consolas,'Courier New',monospace\"></pre>\n"
      ],
      "text/plain": []
     },
     "metadata": {},
     "output_type": "display_data"
    },
    {
     "data": {
      "text/html": [
       "<pre style=\"white-space:pre;overflow-x:auto;line-height:normal;font-family:Menlo,'DejaVu Sans Mono',consolas,'Courier New',monospace\"></pre>\n"
      ],
      "text/plain": []
     },
     "metadata": {},
     "output_type": "display_data"
    },
    {
     "data": {
      "text/html": [
       "<pre style=\"white-space:pre;overflow-x:auto;line-height:normal;font-family:Menlo,'DejaVu Sans Mono',consolas,'Courier New',monospace\"></pre>\n"
      ],
      "text/plain": []
     },
     "metadata": {},
     "output_type": "display_data"
    },
    {
     "data": {
      "text/html": [
       "<pre style=\"white-space:pre;overflow-x:auto;line-height:normal;font-family:Menlo,'DejaVu Sans Mono',consolas,'Courier New',monospace\"></pre>\n"
      ],
      "text/plain": []
     },
     "metadata": {},
     "output_type": "display_data"
    },
    {
     "data": {
      "text/html": [
       "<pre style=\"white-space:pre;overflow-x:auto;line-height:normal;font-family:Menlo,'DejaVu Sans Mono',consolas,'Courier New',monospace\"></pre>\n"
      ],
      "text/plain": []
     },
     "metadata": {},
     "output_type": "display_data"
    },
    {
     "data": {
      "text/html": [
       "<pre style=\"white-space:pre;overflow-x:auto;line-height:normal;font-family:Menlo,'DejaVu Sans Mono',consolas,'Courier New',monospace\"></pre>\n"
      ],
      "text/plain": []
     },
     "metadata": {},
     "output_type": "display_data"
    },
    {
     "data": {
      "text/html": [
       "<pre style=\"white-space:pre;overflow-x:auto;line-height:normal;font-family:Menlo,'DejaVu Sans Mono',consolas,'Courier New',monospace\"></pre>\n"
      ],
      "text/plain": []
     },
     "metadata": {},
     "output_type": "display_data"
    },
    {
     "data": {
      "text/html": [
       "<pre style=\"white-space:pre;overflow-x:auto;line-height:normal;font-family:Menlo,'DejaVu Sans Mono',consolas,'Courier New',monospace\"></pre>\n"
      ],
      "text/plain": []
     },
     "metadata": {},
     "output_type": "display_data"
    },
    {
     "data": {
      "text/html": [
       "<pre style=\"white-space:pre;overflow-x:auto;line-height:normal;font-family:Menlo,'DejaVu Sans Mono',consolas,'Courier New',monospace\"></pre>\n"
      ],
      "text/plain": []
     },
     "metadata": {},
     "output_type": "display_data"
    },
    {
     "data": {
      "text/html": [],
      "text/plain": [
       "\u001b[1m<\u001b[0m\u001b[1;95mIPython.core.display.HTML\u001b[0m\u001b[39m object\u001b[0m\u001b[1m>\u001b[0m"
      ]
     },
     "metadata": {},
     "output_type": "display_data"
    },
    {
     "data": {
      "text/html": [
       "<pre style=\"white-space:pre;overflow-x:auto;line-height:normal;font-family:Menlo,'DejaVu Sans Mono',consolas,'Courier New',monospace\"></pre>\n"
      ],
      "text/plain": []
     },
     "metadata": {},
     "output_type": "display_data"
    },
    {
     "data": {
      "text/html": [
       "<style type=\"text/css\">\n",
       "#T_4d672_row10_col0, #T_4d672_row10_col1, #T_4d672_row10_col2, #T_4d672_row10_col3, #T_4d672_row10_col4, #T_4d672_row10_col5, #T_4d672_row10_col6 {\n",
       "  background: yellow;\n",
       "}\n",
       "</style>\n",
       "<table id=\"T_4d672\">\n",
       "  <thead>\n",
       "    <tr>\n",
       "      <th class=\"blank level0\" >&nbsp;</th>\n",
       "      <th id=\"T_4d672_level0_col0\" class=\"col_heading level0 col0\" >Accuracy</th>\n",
       "      <th id=\"T_4d672_level0_col1\" class=\"col_heading level0 col1\" >AUC</th>\n",
       "      <th id=\"T_4d672_level0_col2\" class=\"col_heading level0 col2\" >Recall</th>\n",
       "      <th id=\"T_4d672_level0_col3\" class=\"col_heading level0 col3\" >Prec.</th>\n",
       "      <th id=\"T_4d672_level0_col4\" class=\"col_heading level0 col4\" >F1</th>\n",
       "      <th id=\"T_4d672_level0_col5\" class=\"col_heading level0 col5\" >Kappa</th>\n",
       "      <th id=\"T_4d672_level0_col6\" class=\"col_heading level0 col6\" >MCC</th>\n",
       "    </tr>\n",
       "    <tr>\n",
       "      <th class=\"index_name level0\" >Fold</th>\n",
       "      <th class=\"blank col0\" >&nbsp;</th>\n",
       "      <th class=\"blank col1\" >&nbsp;</th>\n",
       "      <th class=\"blank col2\" >&nbsp;</th>\n",
       "      <th class=\"blank col3\" >&nbsp;</th>\n",
       "      <th class=\"blank col4\" >&nbsp;</th>\n",
       "      <th class=\"blank col5\" >&nbsp;</th>\n",
       "      <th class=\"blank col6\" >&nbsp;</th>\n",
       "    </tr>\n",
       "  </thead>\n",
       "  <tbody>\n",
       "    <tr>\n",
       "      <th id=\"T_4d672_level0_row0\" class=\"row_heading level0 row0\" >0</th>\n",
       "      <td id=\"T_4d672_row0_col0\" class=\"data row0 col0\" >0.5634</td>\n",
       "      <td id=\"T_4d672_row0_col1\" class=\"data row0 col1\" >0.5537</td>\n",
       "      <td id=\"T_4d672_row0_col2\" class=\"data row0 col2\" >0.4852</td>\n",
       "      <td id=\"T_4d672_row0_col3\" class=\"data row0 col3\" >0.5479</td>\n",
       "      <td id=\"T_4d672_row0_col4\" class=\"data row0 col4\" >0.5147</td>\n",
       "      <td id=\"T_4d672_row0_col5\" class=\"data row0 col5\" >0.1205</td>\n",
       "      <td id=\"T_4d672_row0_col6\" class=\"data row0 col6\" >0.1213</td>\n",
       "    </tr>\n",
       "    <tr>\n",
       "      <th id=\"T_4d672_level0_row1\" class=\"row_heading level0 row1\" >1</th>\n",
       "      <td id=\"T_4d672_row1_col0\" class=\"data row1 col0\" >0.5871</td>\n",
       "      <td id=\"T_4d672_row1_col1\" class=\"data row1 col1\" >0.5784</td>\n",
       "      <td id=\"T_4d672_row1_col2\" class=\"data row1 col2\" >0.4723</td>\n",
       "      <td id=\"T_4d672_row1_col3\" class=\"data row1 col3\" >0.5831</td>\n",
       "      <td id=\"T_4d672_row1_col4\" class=\"data row1 col4\" >0.5219</td>\n",
       "      <td id=\"T_4d672_row1_col5\" class=\"data row1 col5\" >0.1656</td>\n",
       "      <td id=\"T_4d672_row1_col6\" class=\"data row1 col6\" >0.1685</td>\n",
       "    </tr>\n",
       "    <tr>\n",
       "      <th id=\"T_4d672_level0_row2\" class=\"row_heading level0 row2\" >2</th>\n",
       "      <td id=\"T_4d672_row2_col0\" class=\"data row2 col0\" >0.5528</td>\n",
       "      <td id=\"T_4d672_row2_col1\" class=\"data row2 col1\" >0.5542</td>\n",
       "      <td id=\"T_4d672_row2_col2\" class=\"data row2 col2\" >0.4631</td>\n",
       "      <td id=\"T_4d672_row2_col3\" class=\"data row2 col3\" >0.5363</td>\n",
       "      <td id=\"T_4d672_row2_col4\" class=\"data row2 col4\" >0.4970</td>\n",
       "      <td id=\"T_4d672_row2_col5\" class=\"data row2 col5\" >0.0984</td>\n",
       "      <td id=\"T_4d672_row2_col6\" class=\"data row2 col6\" >0.0992</td>\n",
       "    </tr>\n",
       "    <tr>\n",
       "      <th id=\"T_4d672_level0_row3\" class=\"row_heading level0 row3\" >3</th>\n",
       "      <td id=\"T_4d672_row3_col0\" class=\"data row3 col0\" >0.5871</td>\n",
       "      <td id=\"T_4d672_row3_col1\" class=\"data row3 col1\" >0.5868</td>\n",
       "      <td id=\"T_4d672_row3_col2\" class=\"data row3 col2\" >0.4945</td>\n",
       "      <td id=\"T_4d672_row3_col3\" class=\"data row3 col3\" >0.5788</td>\n",
       "      <td id=\"T_4d672_row3_col4\" class=\"data row3 col4\" >0.5333</td>\n",
       "      <td id=\"T_4d672_row3_col5\" class=\"data row3 col5\" >0.1672</td>\n",
       "      <td id=\"T_4d672_row3_col6\" class=\"data row3 col6\" >0.1689</td>\n",
       "    </tr>\n",
       "    <tr>\n",
       "      <th id=\"T_4d672_level0_row4\" class=\"row_heading level0 row4\" >4</th>\n",
       "      <td id=\"T_4d672_row4_col0\" class=\"data row4 col0\" >0.5625</td>\n",
       "      <td id=\"T_4d672_row4_col1\" class=\"data row4 col1\" >0.5673</td>\n",
       "      <td id=\"T_4d672_row4_col2\" class=\"data row4 col2\" >0.4982</td>\n",
       "      <td id=\"T_4d672_row4_col3\" class=\"data row4 col3\" >0.5455</td>\n",
       "      <td id=\"T_4d672_row4_col4\" class=\"data row4 col4\" >0.5207</td>\n",
       "      <td id=\"T_4d672_row4_col5\" class=\"data row4 col5\" >0.1198</td>\n",
       "      <td id=\"T_4d672_row4_col6\" class=\"data row4 col6\" >0.1202</td>\n",
       "    </tr>\n",
       "    <tr>\n",
       "      <th id=\"T_4d672_level0_row5\" class=\"row_heading level0 row5\" >5</th>\n",
       "      <td id=\"T_4d672_row5_col0\" class=\"data row5 col0\" >0.5889</td>\n",
       "      <td id=\"T_4d672_row5_col1\" class=\"data row5 col1\" >0.5846</td>\n",
       "      <td id=\"T_4d672_row5_col2\" class=\"data row5 col2\" >0.4649</td>\n",
       "      <td id=\"T_4d672_row5_col3\" class=\"data row5 col3\" >0.5874</td>\n",
       "      <td id=\"T_4d672_row5_col4\" class=\"data row5 col4\" >0.5191</td>\n",
       "      <td id=\"T_4d672_row5_col5\" class=\"data row5 col5\" >0.1685</td>\n",
       "      <td id=\"T_4d672_row5_col6\" class=\"data row5 col6\" >0.1720</td>\n",
       "    </tr>\n",
       "    <tr>\n",
       "      <th id=\"T_4d672_level0_row6\" class=\"row_heading level0 row6\" >6</th>\n",
       "      <td id=\"T_4d672_row6_col0\" class=\"data row6 col0\" >0.5678</td>\n",
       "      <td id=\"T_4d672_row6_col1\" class=\"data row6 col1\" >0.5459</td>\n",
       "      <td id=\"T_4d672_row6_col2\" class=\"data row6 col2\" >0.4815</td>\n",
       "      <td id=\"T_4d672_row6_col3\" class=\"data row6 col3\" >0.5541</td>\n",
       "      <td id=\"T_4d672_row6_col4\" class=\"data row6 col4\" >0.5153</td>\n",
       "      <td id=\"T_4d672_row6_col5\" class=\"data row6 col5\" >0.1288</td>\n",
       "      <td id=\"T_4d672_row6_col6\" class=\"data row6 col6\" >0.1298</td>\n",
       "    </tr>\n",
       "    <tr>\n",
       "      <th id=\"T_4d672_level0_row7\" class=\"row_heading level0 row7\" >7</th>\n",
       "      <td id=\"T_4d672_row7_col0\" class=\"data row7 col0\" >0.5819</td>\n",
       "      <td id=\"T_4d672_row7_col1\" class=\"data row7 col1\" >0.5888</td>\n",
       "      <td id=\"T_4d672_row7_col2\" class=\"data row7 col2\" >0.5562</td>\n",
       "      <td id=\"T_4d672_row7_col3\" class=\"data row7 col3\" >0.5634</td>\n",
       "      <td id=\"T_4d672_row7_col4\" class=\"data row7 col4\" >0.5598</td>\n",
       "      <td id=\"T_4d672_row7_col5\" class=\"data row7 col5\" >0.1617</td>\n",
       "      <td id=\"T_4d672_row7_col6\" class=\"data row7 col6\" >0.1617</td>\n",
       "    </tr>\n",
       "    <tr>\n",
       "      <th id=\"T_4d672_level0_row8\" class=\"row_heading level0 row8\" >8</th>\n",
       "      <td id=\"T_4d672_row8_col0\" class=\"data row8 col0\" >0.5484</td>\n",
       "      <td id=\"T_4d672_row8_col1\" class=\"data row8 col1\" >0.5426</td>\n",
       "      <td id=\"T_4d672_row8_col2\" class=\"data row8 col2\" >0.5285</td>\n",
       "      <td id=\"T_4d672_row8_col3\" class=\"data row8 col3\" >0.5276</td>\n",
       "      <td id=\"T_4d672_row8_col4\" class=\"data row8 col4\" >0.5281</td>\n",
       "      <td id=\"T_4d672_row8_col5\" class=\"data row8 col5\" >0.0951</td>\n",
       "      <td id=\"T_4d672_row8_col6\" class=\"data row8 col6\" >0.0951</td>\n",
       "    </tr>\n",
       "    <tr>\n",
       "      <th id=\"T_4d672_level0_row9\" class=\"row_heading level0 row9\" >9</th>\n",
       "      <td id=\"T_4d672_row9_col0\" class=\"data row9 col0\" >0.5524</td>\n",
       "      <td id=\"T_4d672_row9_col1\" class=\"data row9 col1\" >0.5611</td>\n",
       "      <td id=\"T_4d672_row9_col2\" class=\"data row9 col2\" >0.5258</td>\n",
       "      <td id=\"T_4d672_row9_col3\" class=\"data row9 col3\" >0.5317</td>\n",
       "      <td id=\"T_4d672_row9_col4\" class=\"data row9 col4\" >0.5288</td>\n",
       "      <td id=\"T_4d672_row9_col5\" class=\"data row9 col5\" >0.1026</td>\n",
       "      <td id=\"T_4d672_row9_col6\" class=\"data row9 col6\" >0.1026</td>\n",
       "    </tr>\n",
       "    <tr>\n",
       "      <th id=\"T_4d672_level0_row10\" class=\"row_heading level0 row10\" >Mean</th>\n",
       "      <td id=\"T_4d672_row10_col0\" class=\"data row10 col0\" >0.5692</td>\n",
       "      <td id=\"T_4d672_row10_col1\" class=\"data row10 col1\" >0.5663</td>\n",
       "      <td id=\"T_4d672_row10_col2\" class=\"data row10 col2\" >0.4970</td>\n",
       "      <td id=\"T_4d672_row10_col3\" class=\"data row10 col3\" >0.5556</td>\n",
       "      <td id=\"T_4d672_row10_col4\" class=\"data row10 col4\" >0.5239</td>\n",
       "      <td id=\"T_4d672_row10_col5\" class=\"data row10 col5\" >0.1328</td>\n",
       "      <td id=\"T_4d672_row10_col6\" class=\"data row10 col6\" >0.1339</td>\n",
       "    </tr>\n",
       "    <tr>\n",
       "      <th id=\"T_4d672_level0_row11\" class=\"row_heading level0 row11\" >Std</th>\n",
       "      <td id=\"T_4d672_row11_col0\" class=\"data row11 col0\" >0.0150</td>\n",
       "      <td id=\"T_4d672_row11_col1\" class=\"data row11 col1\" >0.0165</td>\n",
       "      <td id=\"T_4d672_row11_col2\" class=\"data row11 col2\" >0.0292</td>\n",
       "      <td id=\"T_4d672_row11_col3\" class=\"data row11 col3\" >0.0206</td>\n",
       "      <td id=\"T_4d672_row11_col4\" class=\"data row11 col4\" >0.0153</td>\n",
       "      <td id=\"T_4d672_row11_col5\" class=\"data row11 col5\" >0.0287</td>\n",
       "      <td id=\"T_4d672_row11_col6\" class=\"data row11 col6\" >0.0295</td>\n",
       "    </tr>\n",
       "  </tbody>\n",
       "</table>\n"
      ],
      "text/plain": [
       "\u001b[1m<\u001b[0m\u001b[1;95mpandas.io.formats.style.Styler\u001b[0m\u001b[39m object at \u001b[0m\u001b[1;36m0x7fb0c178ad50\u001b[0m\u001b[1m>\u001b[0m"
      ]
     },
     "metadata": {},
     "output_type": "display_data"
    },
    {
     "data": {
      "text/html": [],
      "text/plain": [
       "\u001b[1m<\u001b[0m\u001b[1;95mIPython.core.display.HTML\u001b[0m\u001b[39m object\u001b[0m\u001b[1m>\u001b[0m"
      ]
     },
     "metadata": {},
     "output_type": "display_data"
    },
    {
     "data": {
      "text/html": [
       "<pre style=\"white-space:pre;overflow-x:auto;line-height:normal;font-family:Menlo,'DejaVu Sans Mono',consolas,'Courier New',monospace\"></pre>\n"
      ],
      "text/plain": []
     },
     "metadata": {},
     "output_type": "display_data"
    },
    {
     "data": {
      "text/html": [
       "<pre style=\"white-space:pre;overflow-x:auto;line-height:normal;font-family:Menlo,'DejaVu Sans Mono',consolas,'Courier New',monospace\"></pre>\n"
      ],
      "text/plain": []
     },
     "metadata": {},
     "output_type": "display_data"
    },
    {
     "name": "stdout",
     "output_type": "stream",
     "text": [
      "Fitting 10 folds for each of 100 candidates, totalling 1000 fits\n"
     ]
    },
    {
     "data": {
      "text/html": [
       "<pre style=\"white-space:pre;overflow-x:auto;line-height:normal;font-family:Menlo,'DejaVu Sans Mono',consolas,'Courier New',monospace\"></pre>\n"
      ],
      "text/plain": []
     },
     "metadata": {},
     "output_type": "display_data"
    },
    {
     "data": {
      "text/html": [
       "<pre style=\"white-space:pre;overflow-x:auto;line-height:normal;font-family:Menlo,'DejaVu Sans Mono',consolas,'Courier New',monospace\"></pre>\n"
      ],
      "text/plain": []
     },
     "metadata": {},
     "output_type": "display_data"
    },
    {
     "data": {
      "text/html": [
       "<pre style=\"white-space:pre;overflow-x:auto;line-height:normal;font-family:Menlo,'DejaVu Sans Mono',consolas,'Courier New',monospace\"></pre>\n"
      ],
      "text/plain": []
     },
     "metadata": {},
     "output_type": "display_data"
    },
    {
     "data": {
      "text/html": [
       "<pre style=\"white-space:pre;overflow-x:auto;line-height:normal;font-family:Menlo,'DejaVu Sans Mono',consolas,'Courier New',monospace\"></pre>\n"
      ],
      "text/plain": []
     },
     "metadata": {},
     "output_type": "display_data"
    },
    {
     "data": {
      "text/html": [
       "<pre style=\"white-space:pre;overflow-x:auto;line-height:normal;font-family:Menlo,'DejaVu Sans Mono',consolas,'Courier New',monospace\"></pre>\n"
      ],
      "text/plain": []
     },
     "metadata": {},
     "output_type": "display_data"
    },
    {
     "data": {
      "text/html": [
       "<pre style=\"white-space:pre;overflow-x:auto;line-height:normal;font-family:Menlo,'DejaVu Sans Mono',consolas,'Courier New',monospace\"></pre>\n"
      ],
      "text/plain": []
     },
     "metadata": {},
     "output_type": "display_data"
    },
    {
     "data": {
      "text/html": [
       "<pre style=\"white-space:pre;overflow-x:auto;line-height:normal;font-family:Menlo,'DejaVu Sans Mono',consolas,'Courier New',monospace\"></pre>\n"
      ],
      "text/plain": []
     },
     "metadata": {},
     "output_type": "display_data"
    },
    {
     "data": {
      "text/html": [
       "<pre style=\"white-space:pre;overflow-x:auto;line-height:normal;font-family:Menlo,'DejaVu Sans Mono',consolas,'Courier New',monospace\"></pre>\n"
      ],
      "text/plain": []
     },
     "metadata": {},
     "output_type": "display_data"
    },
    {
     "name": "stdout",
     "output_type": "stream",
     "text": [
      "Original model was better than the tuned model, hence it will be returned. NOTE: The display metrics are for the tuned model (not the original one).\n"
     ]
    },
    {
     "data": {
      "text/html": [
       "<pre style=\"white-space:pre;overflow-x:auto;line-height:normal;font-family:Menlo,'DejaVu Sans Mono',consolas,'Courier New',monospace\"></pre>\n"
      ],
      "text/plain": []
     },
     "metadata": {},
     "output_type": "display_data"
    },
    {
     "data": {
      "text/html": [
       "<pre style=\"white-space:pre;overflow-x:auto;line-height:normal;font-family:Menlo,'DejaVu Sans Mono',consolas,'Courier New',monospace\"></pre>\n"
      ],
      "text/plain": []
     },
     "metadata": {},
     "output_type": "display_data"
    },
    {
     "data": {
      "text/html": [
       "<pre style=\"white-space:pre;overflow-x:auto;line-height:normal;font-family:Menlo,'DejaVu Sans Mono',consolas,'Courier New',monospace\"></pre>\n"
      ],
      "text/plain": []
     },
     "metadata": {},
     "output_type": "display_data"
    }
   ],
   "source": [
    "from pycaret.classification import *\n",
    "exp = ClassificationExperiment()\n",
    "exp.setup(data=data_train, target='shot_made_flag', session_id=1234)\n",
    "\n",
    "model = exp.create_model('dt')\n",
    "\n",
    "randcv_model = exp.tune_model(model, n_iter=100, optimize='F1')\n"
   ]
  },
  {
   "cell_type": "code",
   "execution_count": null,
   "id": "e13198af-916a-48a1-a27c-1f3979040b8d",
   "metadata": {},
   "outputs": [],
   "source": []
  },
  {
   "cell_type": "code",
   "execution_count": null,
   "id": "043d1d05-1693-4154-a954-3a7adaee7e0b",
   "metadata": {},
   "outputs": [],
   "source": []
  }
 ],
 "metadata": {
  "kernelspec": {
   "display_name": "Kedro (kobe)",
   "language": "python",
   "name": "kedro_kobe"
  },
  "language_info": {
   "codemirror_mode": {
    "name": "ipython",
    "version": 3
   },
   "file_extension": ".py",
   "mimetype": "text/x-python",
   "name": "python",
   "nbconvert_exporter": "python",
   "pygments_lexer": "ipython3",
   "version": "3.11.11"
  }
 },
 "nbformat": 4,
 "nbformat_minor": 5
}
