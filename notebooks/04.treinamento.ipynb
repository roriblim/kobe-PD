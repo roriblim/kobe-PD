{
 "cells": [
  {
   "cell_type": "code",
   "execution_count": 1,
   "id": "d39b5486-a8da-4f44-be66-d3da3338c2a1",
   "metadata": {},
   "outputs": [
    {
     "data": {
      "text/html": [
       "<pre style=\"white-space:pre;overflow-x:auto;line-height:normal;font-family:Menlo,'DejaVu Sans Mono',consolas,'Courier New',monospace\"><span style=\"color: #7fbfbf; text-decoration-color: #7fbfbf\">                    </span><span style=\"color: #000080; text-decoration-color: #000080\">INFO    </span> Loading data from <span style=\"color: #ff8700; text-decoration-color: #ff8700\">data_train</span> <span style=\"font-weight: bold\">(</span>ParquetDataset<span style=\"font-weight: bold\">)</span><span style=\"color: #808000; text-decoration-color: #808000\">...</span>                   <a href=\"file:///home/rosana/.conda/envs/PD_env_1/lib/python3.11/site-packages/kedro/io/data_catalog.py\" target=\"_blank\"><span style=\"color: #7f7f7f; text-decoration-color: #7f7f7f\">data_catalog.py</span></a><span style=\"color: #7f7f7f; text-decoration-color: #7f7f7f\">:</span><a href=\"file:///home/rosana/.conda/envs/PD_env_1/lib/python3.11/site-packages/kedro/io/data_catalog.py#401\" target=\"_blank\"><span style=\"color: #7f7f7f; text-decoration-color: #7f7f7f\">401</span></a>\n",
       "</pre>\n"
      ],
      "text/plain": [
       "\u001b[2;36m                   \u001b[0m\u001b[2;36m \u001b[0m\u001b[34mINFO    \u001b[0m Loading data from \u001b[38;5;208mdata_train\u001b[0m \u001b[1m(\u001b[0mParquetDataset\u001b[1m)\u001b[0m\u001b[33m...\u001b[0m                   \u001b]8;id=232689;file:///home/rosana/.conda/envs/PD_env_1/lib/python3.11/site-packages/kedro/io/data_catalog.py\u001b\\\u001b[2mdata_catalog.py\u001b[0m\u001b]8;;\u001b\\\u001b[2m:\u001b[0m\u001b]8;id=956416;file:///home/rosana/.conda/envs/PD_env_1/lib/python3.11/site-packages/kedro/io/data_catalog.py#401\u001b\\\u001b[2m401\u001b[0m\u001b]8;;\u001b\\\n"
      ]
     },
     "metadata": {},
     "output_type": "display_data"
    }
   ],
   "source": [
    "data_train = catalog.load(\"data_train\")"
   ]
  },
  {
   "cell_type": "code",
   "execution_count": 2,
   "id": "20c6117d-d14b-46b4-9d28-848d212b6463",
   "metadata": {},
   "outputs": [
    {
     "data": {
      "text/html": [
       "<pre style=\"white-space:pre;overflow-x:auto;line-height:normal;font-family:Menlo,'DejaVu Sans Mono',consolas,'Courier New',monospace\"><span style=\"color: #7fbfbf; text-decoration-color: #7fbfbf\">                    </span><span style=\"color: #000080; text-decoration-color: #000080\">INFO    </span> Loading data from <span style=\"color: #ff8700; text-decoration-color: #ff8700\">data_test</span> <span style=\"font-weight: bold\">(</span>ParquetDataset<span style=\"font-weight: bold\">)</span><span style=\"color: #808000; text-decoration-color: #808000\">...</span>                    <a href=\"file:///home/rosana/.conda/envs/PD_env_1/lib/python3.11/site-packages/kedro/io/data_catalog.py\" target=\"_blank\"><span style=\"color: #7f7f7f; text-decoration-color: #7f7f7f\">data_catalog.py</span></a><span style=\"color: #7f7f7f; text-decoration-color: #7f7f7f\">:</span><a href=\"file:///home/rosana/.conda/envs/PD_env_1/lib/python3.11/site-packages/kedro/io/data_catalog.py#401\" target=\"_blank\"><span style=\"color: #7f7f7f; text-decoration-color: #7f7f7f\">401</span></a>\n",
       "</pre>\n"
      ],
      "text/plain": [
       "\u001b[2;36m                   \u001b[0m\u001b[2;36m \u001b[0m\u001b[34mINFO    \u001b[0m Loading data from \u001b[38;5;208mdata_test\u001b[0m \u001b[1m(\u001b[0mParquetDataset\u001b[1m)\u001b[0m\u001b[33m...\u001b[0m                    \u001b]8;id=692791;file:///home/rosana/.conda/envs/PD_env_1/lib/python3.11/site-packages/kedro/io/data_catalog.py\u001b\\\u001b[2mdata_catalog.py\u001b[0m\u001b]8;;\u001b\\\u001b[2m:\u001b[0m\u001b]8;id=409898;file:///home/rosana/.conda/envs/PD_env_1/lib/python3.11/site-packages/kedro/io/data_catalog.py#401\u001b\\\u001b[2m401\u001b[0m\u001b]8;;\u001b\\\n"
      ]
     },
     "metadata": {},
     "output_type": "display_data"
    },
    {
     "data": {
      "text/html": [
       "<pre style=\"white-space:pre;overflow-x:auto;line-height:normal;font-family:Menlo,'DejaVu Sans Mono',consolas,'Courier New',monospace\"></pre>\n"
      ],
      "text/plain": []
     },
     "metadata": {},
     "output_type": "display_data"
    },
    {
     "data": {
      "text/html": [
       "<div>\n",
       "<style scoped>\n",
       "    .dataframe tbody tr th:only-of-type {\n",
       "        vertical-align: middle;\n",
       "    }\n",
       "\n",
       "    .dataframe tbody tr th {\n",
       "        vertical-align: top;\n",
       "    }\n",
       "\n",
       "    .dataframe thead th {\n",
       "        text-align: right;\n",
       "    }\n",
       "</style>\n",
       "<table border=\"1\" class=\"dataframe\">\n",
       "  <thead>\n",
       "    <tr style=\"text-align: right;\">\n",
       "      <th></th>\n",
       "      <th>minutes_remaining</th>\n",
       "      <th>period</th>\n",
       "      <th>playoffs</th>\n",
       "      <th>shot_distance</th>\n",
       "      <th>lat_quadra</th>\n",
       "      <th>lon_quadra</th>\n",
       "      <th>shot_made_flag</th>\n",
       "    </tr>\n",
       "  </thead>\n",
       "  <tbody>\n",
       "    <tr>\n",
       "      <th>13437</th>\n",
       "      <td>4</td>\n",
       "      <td>2</td>\n",
       "      <td>False</td>\n",
       "      <td>6</td>\n",
       "      <td>-0.060</td>\n",
       "      <td>0.007</td>\n",
       "      <td>1.0</td>\n",
       "    </tr>\n",
       "    <tr>\n",
       "      <th>13618</th>\n",
       "      <td>7</td>\n",
       "      <td>1</td>\n",
       "      <td>False</td>\n",
       "      <td>7</td>\n",
       "      <td>-0.067</td>\n",
       "      <td>0.026</td>\n",
       "      <td>0.0</td>\n",
       "    </tr>\n",
       "    <tr>\n",
       "      <th>7918</th>\n",
       "      <td>10</td>\n",
       "      <td>3</td>\n",
       "      <td>False</td>\n",
       "      <td>18</td>\n",
       "      <td>-0.115</td>\n",
       "      <td>0.149</td>\n",
       "      <td>0.0</td>\n",
       "    </tr>\n",
       "    <tr>\n",
       "      <th>704</th>\n",
       "      <td>5</td>\n",
       "      <td>2</td>\n",
       "      <td>False</td>\n",
       "      <td>0</td>\n",
       "      <td>0.000</td>\n",
       "      <td>0.000</td>\n",
       "      <td>0.0</td>\n",
       "    </tr>\n",
       "    <tr>\n",
       "      <th>14038</th>\n",
       "      <td>6</td>\n",
       "      <td>1</td>\n",
       "      <td>False</td>\n",
       "      <td>22</td>\n",
       "      <td>-0.214</td>\n",
       "      <td>-0.068</td>\n",
       "      <td>0.0</td>\n",
       "    </tr>\n",
       "    <tr>\n",
       "      <th>...</th>\n",
       "      <td>...</td>\n",
       "      <td>...</td>\n",
       "      <td>...</td>\n",
       "      <td>...</td>\n",
       "      <td>...</td>\n",
       "      <td>...</td>\n",
       "      <td>...</td>\n",
       "    </tr>\n",
       "    <tr>\n",
       "      <th>15813</th>\n",
       "      <td>4</td>\n",
       "      <td>3</td>\n",
       "      <td>False</td>\n",
       "      <td>11</td>\n",
       "      <td>-0.070</td>\n",
       "      <td>-0.094</td>\n",
       "      <td>0.0</td>\n",
       "    </tr>\n",
       "    <tr>\n",
       "      <th>5769</th>\n",
       "      <td>5</td>\n",
       "      <td>2</td>\n",
       "      <td>False</td>\n",
       "      <td>15</td>\n",
       "      <td>0.031</td>\n",
       "      <td>0.153</td>\n",
       "      <td>0.0</td>\n",
       "    </tr>\n",
       "    <tr>\n",
       "      <th>5570</th>\n",
       "      <td>11</td>\n",
       "      <td>1</td>\n",
       "      <td>False</td>\n",
       "      <td>13</td>\n",
       "      <td>-0.053</td>\n",
       "      <td>-0.120</td>\n",
       "      <td>0.0</td>\n",
       "    </tr>\n",
       "    <tr>\n",
       "      <th>13374</th>\n",
       "      <td>5</td>\n",
       "      <td>2</td>\n",
       "      <td>False</td>\n",
       "      <td>14</td>\n",
       "      <td>-0.132</td>\n",
       "      <td>0.070</td>\n",
       "      <td>1.0</td>\n",
       "    </tr>\n",
       "    <tr>\n",
       "      <th>4479</th>\n",
       "      <td>11</td>\n",
       "      <td>3</td>\n",
       "      <td>False</td>\n",
       "      <td>15</td>\n",
       "      <td>0.009</td>\n",
       "      <td>-0.156</td>\n",
       "      <td>1.0</td>\n",
       "    </tr>\n",
       "  </tbody>\n",
       "</table>\n",
       "<p>4057 rows × 7 columns</p>\n",
       "</div>"
      ],
      "text/plain": [
       "\n",
       "       minutes_remaining  period  playoffs  shot_distance  lat_quadra  \\\n",
       "\u001b[1;36m13437\u001b[0m                  \u001b[1;36m4\u001b[0m       \u001b[1;36m2\u001b[0m     \u001b[3;91mFalse\u001b[0m              \u001b[1;36m6\u001b[0m      \u001b[1;36m-0.060\u001b[0m   \n",
       "\u001b[1;36m13618\u001b[0m                  \u001b[1;36m7\u001b[0m       \u001b[1;36m1\u001b[0m     \u001b[3;91mFalse\u001b[0m              \u001b[1;36m7\u001b[0m      \u001b[1;36m-0.067\u001b[0m   \n",
       "\u001b[1;36m7918\u001b[0m                  \u001b[1;36m10\u001b[0m       \u001b[1;36m3\u001b[0m     \u001b[3;91mFalse\u001b[0m             \u001b[1;36m18\u001b[0m      \u001b[1;36m-0.115\u001b[0m   \n",
       "\u001b[1;36m704\u001b[0m                    \u001b[1;36m5\u001b[0m       \u001b[1;36m2\u001b[0m     \u001b[3;91mFalse\u001b[0m              \u001b[1;36m0\u001b[0m       \u001b[1;36m0.000\u001b[0m   \n",
       "\u001b[1;36m14038\u001b[0m                  \u001b[1;36m6\u001b[0m       \u001b[1;36m1\u001b[0m     \u001b[3;91mFalse\u001b[0m             \u001b[1;36m22\u001b[0m      \u001b[1;36m-0.214\u001b[0m   \n",
       "\u001b[33m...\u001b[0m                  \u001b[33m...\u001b[0m     \u001b[33m...\u001b[0m       \u001b[33m...\u001b[0m            \u001b[33m...\u001b[0m         \u001b[33m...\u001b[0m   \n",
       "\u001b[1;36m15813\u001b[0m                  \u001b[1;36m4\u001b[0m       \u001b[1;36m3\u001b[0m     \u001b[3;91mFalse\u001b[0m             \u001b[1;36m11\u001b[0m      \u001b[1;36m-0.070\u001b[0m   \n",
       "\u001b[1;36m5769\u001b[0m                   \u001b[1;36m5\u001b[0m       \u001b[1;36m2\u001b[0m     \u001b[3;91mFalse\u001b[0m             \u001b[1;36m15\u001b[0m       \u001b[1;36m0.031\u001b[0m   \n",
       "\u001b[1;36m5570\u001b[0m                  \u001b[1;36m11\u001b[0m       \u001b[1;36m1\u001b[0m     \u001b[3;91mFalse\u001b[0m             \u001b[1;36m13\u001b[0m      \u001b[1;36m-0.053\u001b[0m   \n",
       "\u001b[1;36m13374\u001b[0m                  \u001b[1;36m5\u001b[0m       \u001b[1;36m2\u001b[0m     \u001b[3;91mFalse\u001b[0m             \u001b[1;36m14\u001b[0m      \u001b[1;36m-0.132\u001b[0m   \n",
       "\u001b[1;36m4479\u001b[0m                  \u001b[1;36m11\u001b[0m       \u001b[1;36m3\u001b[0m     \u001b[3;91mFalse\u001b[0m             \u001b[1;36m15\u001b[0m       \u001b[1;36m0.009\u001b[0m   \n",
       "\n",
       "       lon_quadra  shot_made_flag  \n",
       "\u001b[1;36m13437\u001b[0m       \u001b[1;36m0.007\u001b[0m             \u001b[1;36m1.0\u001b[0m  \n",
       "\u001b[1;36m13618\u001b[0m       \u001b[1;36m0.026\u001b[0m             \u001b[1;36m0.0\u001b[0m  \n",
       "\u001b[1;36m7918\u001b[0m        \u001b[1;36m0.149\u001b[0m             \u001b[1;36m0.0\u001b[0m  \n",
       "\u001b[1;36m704\u001b[0m         \u001b[1;36m0.000\u001b[0m             \u001b[1;36m0.0\u001b[0m  \n",
       "\u001b[1;36m14038\u001b[0m      \u001b[1;36m-0.068\u001b[0m             \u001b[1;36m0.0\u001b[0m  \n",
       "\u001b[33m...\u001b[0m           \u001b[33m...\u001b[0m             \u001b[33m...\u001b[0m  \n",
       "\u001b[1;36m15813\u001b[0m      \u001b[1;36m-0.094\u001b[0m             \u001b[1;36m0.0\u001b[0m  \n",
       "\u001b[1;36m5769\u001b[0m        \u001b[1;36m0.153\u001b[0m             \u001b[1;36m0.0\u001b[0m  \n",
       "\u001b[1;36m5570\u001b[0m       \u001b[1;36m-0.120\u001b[0m             \u001b[1;36m0.0\u001b[0m  \n",
       "\u001b[1;36m13374\u001b[0m       \u001b[1;36m0.070\u001b[0m             \u001b[1;36m1.0\u001b[0m  \n",
       "\u001b[1;36m4479\u001b[0m       \u001b[1;36m-0.156\u001b[0m             \u001b[1;36m1.0\u001b[0m  \n",
       "\n",
       "\u001b[1m[\u001b[0m\u001b[1;36m4057\u001b[0m rows x \u001b[1;36m7\u001b[0m columns\u001b[1m]\u001b[0m"
      ]
     },
     "execution_count": 2,
     "metadata": {},
     "output_type": "execute_result"
    }
   ],
   "source": [
    "data_test = catalog.load(\"data_test\")\n",
    "data_test"
   ]
  },
  {
   "cell_type": "code",
   "execution_count": 3,
   "id": "3c631739-f4e6-4051-b257-ef0453cc3b6e",
   "metadata": {},
   "outputs": [],
   "source": [
    "data_train_x = data_train.drop('shot_made_flag', axis=1)\n",
    "data_train_y = data_train[['shot_made_flag']]\n",
    "\n",
    "data_test_x = data_test.drop('shot_made_flag', axis=1)\n",
    "data_test_y = data_test[['shot_made_flag']]"
   ]
  },
  {
   "cell_type": "code",
   "execution_count": 4,
   "id": "3bf63836-a8fd-465b-831f-7d01c2a5ca09",
   "metadata": {},
   "outputs": [
    {
     "data": {
      "text/html": [
       "<pre style=\"white-space:pre;overflow-x:auto;line-height:normal;font-family:Menlo,'DejaVu Sans Mono',consolas,'Courier New',monospace\"></pre>\n"
      ],
      "text/plain": []
     },
     "metadata": {},
     "output_type": "display_data"
    },
    {
     "data": {
      "text/html": [
       "<style type=\"text/css\">\n",
       "#T_9eadb_row8_col1 {\n",
       "  background-color: lightgreen;\n",
       "}\n",
       "</style>\n",
       "<table id=\"T_9eadb\">\n",
       "  <thead>\n",
       "    <tr>\n",
       "      <th class=\"blank level0\" >&nbsp;</th>\n",
       "      <th id=\"T_9eadb_level0_col0\" class=\"col_heading level0 col0\" >Description</th>\n",
       "      <th id=\"T_9eadb_level0_col1\" class=\"col_heading level0 col1\" >Value</th>\n",
       "    </tr>\n",
       "  </thead>\n",
       "  <tbody>\n",
       "    <tr>\n",
       "      <th id=\"T_9eadb_level0_row0\" class=\"row_heading level0 row0\" >0</th>\n",
       "      <td id=\"T_9eadb_row0_col0\" class=\"data row0 col0\" >Session id</td>\n",
       "      <td id=\"T_9eadb_row0_col1\" class=\"data row0 col1\" >3128</td>\n",
       "    </tr>\n",
       "    <tr>\n",
       "      <th id=\"T_9eadb_level0_row1\" class=\"row_heading level0 row1\" >1</th>\n",
       "      <td id=\"T_9eadb_row1_col0\" class=\"data row1 col0\" >Target</td>\n",
       "      <td id=\"T_9eadb_row1_col1\" class=\"data row1 col1\" >shot_made_flag</td>\n",
       "    </tr>\n",
       "    <tr>\n",
       "      <th id=\"T_9eadb_level0_row2\" class=\"row_heading level0 row2\" >2</th>\n",
       "      <td id=\"T_9eadb_row2_col0\" class=\"data row2 col0\" >Target type</td>\n",
       "      <td id=\"T_9eadb_row2_col1\" class=\"data row2 col1\" >Binary</td>\n",
       "    </tr>\n",
       "    <tr>\n",
       "      <th id=\"T_9eadb_level0_row3\" class=\"row_heading level0 row3\" >3</th>\n",
       "      <td id=\"T_9eadb_row3_col0\" class=\"data row3 col0\" >Original data shape</td>\n",
       "      <td id=\"T_9eadb_row3_col1\" class=\"data row3 col1\" >(16228, 7)</td>\n",
       "    </tr>\n",
       "    <tr>\n",
       "      <th id=\"T_9eadb_level0_row4\" class=\"row_heading level0 row4\" >4</th>\n",
       "      <td id=\"T_9eadb_row4_col0\" class=\"data row4 col0\" >Transformed data shape</td>\n",
       "      <td id=\"T_9eadb_row4_col1\" class=\"data row4 col1\" >(16228, 7)</td>\n",
       "    </tr>\n",
       "    <tr>\n",
       "      <th id=\"T_9eadb_level0_row5\" class=\"row_heading level0 row5\" >5</th>\n",
       "      <td id=\"T_9eadb_row5_col0\" class=\"data row5 col0\" >Transformed train set shape</td>\n",
       "      <td id=\"T_9eadb_row5_col1\" class=\"data row5 col1\" >(11359, 7)</td>\n",
       "    </tr>\n",
       "    <tr>\n",
       "      <th id=\"T_9eadb_level0_row6\" class=\"row_heading level0 row6\" >6</th>\n",
       "      <td id=\"T_9eadb_row6_col0\" class=\"data row6 col0\" >Transformed test set shape</td>\n",
       "      <td id=\"T_9eadb_row6_col1\" class=\"data row6 col1\" >(4869, 7)</td>\n",
       "    </tr>\n",
       "    <tr>\n",
       "      <th id=\"T_9eadb_level0_row7\" class=\"row_heading level0 row7\" >7</th>\n",
       "      <td id=\"T_9eadb_row7_col0\" class=\"data row7 col0\" >Numeric features</td>\n",
       "      <td id=\"T_9eadb_row7_col1\" class=\"data row7 col1\" >5</td>\n",
       "    </tr>\n",
       "    <tr>\n",
       "      <th id=\"T_9eadb_level0_row8\" class=\"row_heading level0 row8\" >8</th>\n",
       "      <td id=\"T_9eadb_row8_col0\" class=\"data row8 col0\" >Preprocess</td>\n",
       "      <td id=\"T_9eadb_row8_col1\" class=\"data row8 col1\" >True</td>\n",
       "    </tr>\n",
       "    <tr>\n",
       "      <th id=\"T_9eadb_level0_row9\" class=\"row_heading level0 row9\" >9</th>\n",
       "      <td id=\"T_9eadb_row9_col0\" class=\"data row9 col0\" >Imputation type</td>\n",
       "      <td id=\"T_9eadb_row9_col1\" class=\"data row9 col1\" >simple</td>\n",
       "    </tr>\n",
       "    <tr>\n",
       "      <th id=\"T_9eadb_level0_row10\" class=\"row_heading level0 row10\" >10</th>\n",
       "      <td id=\"T_9eadb_row10_col0\" class=\"data row10 col0\" >Numeric imputation</td>\n",
       "      <td id=\"T_9eadb_row10_col1\" class=\"data row10 col1\" >mean</td>\n",
       "    </tr>\n",
       "    <tr>\n",
       "      <th id=\"T_9eadb_level0_row11\" class=\"row_heading level0 row11\" >11</th>\n",
       "      <td id=\"T_9eadb_row11_col0\" class=\"data row11 col0\" >Categorical imputation</td>\n",
       "      <td id=\"T_9eadb_row11_col1\" class=\"data row11 col1\" >mode</td>\n",
       "    </tr>\n",
       "    <tr>\n",
       "      <th id=\"T_9eadb_level0_row12\" class=\"row_heading level0 row12\" >12</th>\n",
       "      <td id=\"T_9eadb_row12_col0\" class=\"data row12 col0\" >Fold Generator</td>\n",
       "      <td id=\"T_9eadb_row12_col1\" class=\"data row12 col1\" >StratifiedKFold</td>\n",
       "    </tr>\n",
       "    <tr>\n",
       "      <th id=\"T_9eadb_level0_row13\" class=\"row_heading level0 row13\" >13</th>\n",
       "      <td id=\"T_9eadb_row13_col0\" class=\"data row13 col0\" >Fold Number</td>\n",
       "      <td id=\"T_9eadb_row13_col1\" class=\"data row13 col1\" >10</td>\n",
       "    </tr>\n",
       "    <tr>\n",
       "      <th id=\"T_9eadb_level0_row14\" class=\"row_heading level0 row14\" >14</th>\n",
       "      <td id=\"T_9eadb_row14_col0\" class=\"data row14 col0\" >CPU Jobs</td>\n",
       "      <td id=\"T_9eadb_row14_col1\" class=\"data row14 col1\" >-1</td>\n",
       "    </tr>\n",
       "    <tr>\n",
       "      <th id=\"T_9eadb_level0_row15\" class=\"row_heading level0 row15\" >15</th>\n",
       "      <td id=\"T_9eadb_row15_col0\" class=\"data row15 col0\" >Use GPU</td>\n",
       "      <td id=\"T_9eadb_row15_col1\" class=\"data row15 col1\" >False</td>\n",
       "    </tr>\n",
       "    <tr>\n",
       "      <th id=\"T_9eadb_level0_row16\" class=\"row_heading level0 row16\" >16</th>\n",
       "      <td id=\"T_9eadb_row16_col0\" class=\"data row16 col0\" >Log Experiment</td>\n",
       "      <td id=\"T_9eadb_row16_col1\" class=\"data row16 col1\" >False</td>\n",
       "    </tr>\n",
       "    <tr>\n",
       "      <th id=\"T_9eadb_level0_row17\" class=\"row_heading level0 row17\" >17</th>\n",
       "      <td id=\"T_9eadb_row17_col0\" class=\"data row17 col0\" >Experiment Name</td>\n",
       "      <td id=\"T_9eadb_row17_col1\" class=\"data row17 col1\" >clf-default-name</td>\n",
       "    </tr>\n",
       "    <tr>\n",
       "      <th id=\"T_9eadb_level0_row18\" class=\"row_heading level0 row18\" >18</th>\n",
       "      <td id=\"T_9eadb_row18_col0\" class=\"data row18 col0\" >USI</td>\n",
       "      <td id=\"T_9eadb_row18_col1\" class=\"data row18 col1\" >70c6</td>\n",
       "    </tr>\n",
       "  </tbody>\n",
       "</table>\n"
      ],
      "text/plain": [
       "\u001b[1m<\u001b[0m\u001b[1;95mpandas.io.formats.style.Styler\u001b[0m\u001b[39m object at \u001b[0m\u001b[1;36m0x7f98e54d8850\u001b[0m\u001b[1m>\u001b[0m"
      ]
     },
     "metadata": {},
     "output_type": "display_data"
    },
    {
     "data": {
      "text/html": [
       "<pre style=\"white-space:pre;overflow-x:auto;line-height:normal;font-family:Menlo,'DejaVu Sans Mono',consolas,'Courier New',monospace\"></pre>\n"
      ],
      "text/plain": []
     },
     "metadata": {},
     "output_type": "display_data"
    },
    {
     "data": {
      "text/html": [
       "<pre style=\"white-space:pre;overflow-x:auto;line-height:normal;font-family:Menlo,'DejaVu Sans Mono',consolas,'Courier New',monospace\"></pre>\n"
      ],
      "text/plain": []
     },
     "metadata": {},
     "output_type": "display_data"
    },
    {
     "data": {
      "text/html": [],
      "text/plain": [
       "\u001b[1m<\u001b[0m\u001b[1;95mIPython.core.display.HTML\u001b[0m\u001b[39m object\u001b[0m\u001b[1m>\u001b[0m"
      ]
     },
     "metadata": {},
     "output_type": "display_data"
    },
    {
     "data": {
      "text/html": [
       "<pre style=\"white-space:pre;overflow-x:auto;line-height:normal;font-family:Menlo,'DejaVu Sans Mono',consolas,'Courier New',monospace\"></pre>\n"
      ],
      "text/plain": []
     },
     "metadata": {},
     "output_type": "display_data"
    },
    {
     "data": {
      "text/html": [
       "<style type=\"text/css\">\n",
       "#T_9bd2d_row10_col0, #T_9bd2d_row10_col1, #T_9bd2d_row10_col2, #T_9bd2d_row10_col3, #T_9bd2d_row10_col4, #T_9bd2d_row10_col5, #T_9bd2d_row10_col6 {\n",
       "  background: yellow;\n",
       "}\n",
       "</style>\n",
       "<table id=\"T_9bd2d\">\n",
       "  <thead>\n",
       "    <tr>\n",
       "      <th class=\"blank level0\" >&nbsp;</th>\n",
       "      <th id=\"T_9bd2d_level0_col0\" class=\"col_heading level0 col0\" >Accuracy</th>\n",
       "      <th id=\"T_9bd2d_level0_col1\" class=\"col_heading level0 col1\" >AUC</th>\n",
       "      <th id=\"T_9bd2d_level0_col2\" class=\"col_heading level0 col2\" >Recall</th>\n",
       "      <th id=\"T_9bd2d_level0_col3\" class=\"col_heading level0 col3\" >Prec.</th>\n",
       "      <th id=\"T_9bd2d_level0_col4\" class=\"col_heading level0 col4\" >F1</th>\n",
       "      <th id=\"T_9bd2d_level0_col5\" class=\"col_heading level0 col5\" >Kappa</th>\n",
       "      <th id=\"T_9bd2d_level0_col6\" class=\"col_heading level0 col6\" >MCC</th>\n",
       "    </tr>\n",
       "    <tr>\n",
       "      <th class=\"index_name level0\" >Fold</th>\n",
       "      <th class=\"blank col0\" >&nbsp;</th>\n",
       "      <th class=\"blank col1\" >&nbsp;</th>\n",
       "      <th class=\"blank col2\" >&nbsp;</th>\n",
       "      <th class=\"blank col3\" >&nbsp;</th>\n",
       "      <th class=\"blank col4\" >&nbsp;</th>\n",
       "      <th class=\"blank col5\" >&nbsp;</th>\n",
       "      <th class=\"blank col6\" >&nbsp;</th>\n",
       "    </tr>\n",
       "  </thead>\n",
       "  <tbody>\n",
       "    <tr>\n",
       "      <th id=\"T_9bd2d_level0_row0\" class=\"row_heading level0 row0\" >0</th>\n",
       "      <td id=\"T_9bd2d_row0_col0\" class=\"data row0 col0\" >0.5502</td>\n",
       "      <td id=\"T_9bd2d_row0_col1\" class=\"data row0 col1\" >0.5352</td>\n",
       "      <td id=\"T_9bd2d_row0_col2\" class=\"data row0 col2\" >0.5893</td>\n",
       "      <td id=\"T_9bd2d_row0_col3\" class=\"data row0 col3\" >0.5263</td>\n",
       "      <td id=\"T_9bd2d_row0_col4\" class=\"data row0 col4\" >0.5560</td>\n",
       "      <td id=\"T_9bd2d_row0_col5\" class=\"data row0 col5\" >0.1031</td>\n",
       "      <td id=\"T_9bd2d_row0_col6\" class=\"data row0 col6\" >0.1038</td>\n",
       "    </tr>\n",
       "    <tr>\n",
       "      <th id=\"T_9bd2d_level0_row1\" class=\"row_heading level0 row1\" >1</th>\n",
       "      <td id=\"T_9bd2d_row1_col0\" class=\"data row1 col0\" >0.5511</td>\n",
       "      <td id=\"T_9bd2d_row1_col1\" class=\"data row1 col1\" >0.5348</td>\n",
       "      <td id=\"T_9bd2d_row1_col2\" class=\"data row1 col2\" >0.6096</td>\n",
       "      <td id=\"T_9bd2d_row1_col3\" class=\"data row1 col3\" >0.5262</td>\n",
       "      <td id=\"T_9bd2d_row1_col4\" class=\"data row1 col4\" >0.5648</td>\n",
       "      <td id=\"T_9bd2d_row1_col5\" class=\"data row1 col5\" >0.1063</td>\n",
       "      <td id=\"T_9bd2d_row1_col6\" class=\"data row1 col6\" >0.1076</td>\n",
       "    </tr>\n",
       "    <tr>\n",
       "      <th id=\"T_9bd2d_level0_row2\" class=\"row_heading level0 row2\" >2</th>\n",
       "      <td id=\"T_9bd2d_row2_col0\" class=\"data row2 col0\" >0.5361</td>\n",
       "      <td id=\"T_9bd2d_row2_col1\" class=\"data row2 col1\" >0.5103</td>\n",
       "      <td id=\"T_9bd2d_row2_col2\" class=\"data row2 col2\" >0.5646</td>\n",
       "      <td id=\"T_9bd2d_row2_col3\" class=\"data row2 col3\" >0.5126</td>\n",
       "      <td id=\"T_9bd2d_row2_col4\" class=\"data row2 col4\" >0.5373</td>\n",
       "      <td id=\"T_9bd2d_row2_col5\" class=\"data row2 col5\" >0.0743</td>\n",
       "      <td id=\"T_9bd2d_row2_col6\" class=\"data row2 col6\" >0.0747</td>\n",
       "    </tr>\n",
       "    <tr>\n",
       "      <th id=\"T_9bd2d_level0_row3\" class=\"row_heading level0 row3\" >3</th>\n",
       "      <td id=\"T_9bd2d_row3_col0\" class=\"data row3 col0\" >0.5308</td>\n",
       "      <td id=\"T_9bd2d_row3_col1\" class=\"data row3 col1\" >0.5068</td>\n",
       "      <td id=\"T_9bd2d_row3_col2\" class=\"data row3 col2\" >0.5683</td>\n",
       "      <td id=\"T_9bd2d_row3_col3\" class=\"data row3 col3\" >0.5074</td>\n",
       "      <td id=\"T_9bd2d_row3_col4\" class=\"data row3 col4\" >0.5361</td>\n",
       "      <td id=\"T_9bd2d_row3_col5\" class=\"data row3 col5\" >0.0646</td>\n",
       "      <td id=\"T_9bd2d_row3_col6\" class=\"data row3 col6\" >0.0650</td>\n",
       "    </tr>\n",
       "    <tr>\n",
       "      <th id=\"T_9bd2d_level0_row4\" class=\"row_heading level0 row4\" >4</th>\n",
       "      <td id=\"T_9bd2d_row4_col0\" class=\"data row4 col0\" >0.5211</td>\n",
       "      <td id=\"T_9bd2d_row4_col1\" class=\"data row4 col1\" >0.5020</td>\n",
       "      <td id=\"T_9bd2d_row4_col2\" class=\"data row4 col2\" >0.5683</td>\n",
       "      <td id=\"T_9bd2d_row4_col3\" class=\"data row4 col3\" >0.4984</td>\n",
       "      <td id=\"T_9bd2d_row4_col4\" class=\"data row4 col4\" >0.5310</td>\n",
       "      <td id=\"T_9bd2d_row4_col5\" class=\"data row4 col5\" >0.0461</td>\n",
       "      <td id=\"T_9bd2d_row4_col6\" class=\"data row4 col6\" >0.0465</td>\n",
       "    </tr>\n",
       "    <tr>\n",
       "      <th id=\"T_9bd2d_level0_row5\" class=\"row_heading level0 row5\" >5</th>\n",
       "      <td id=\"T_9bd2d_row5_col0\" class=\"data row5 col0\" >0.5106</td>\n",
       "      <td id=\"T_9bd2d_row5_col1\" class=\"data row5 col1\" >0.5019</td>\n",
       "      <td id=\"T_9bd2d_row5_col2\" class=\"data row5 col2\" >0.5480</td>\n",
       "      <td id=\"T_9bd2d_row5_col3\" class=\"data row5 col3\" >0.4885</td>\n",
       "      <td id=\"T_9bd2d_row5_col4\" class=\"data row5 col4\" >0.5165</td>\n",
       "      <td id=\"T_9bd2d_row5_col5\" class=\"data row5 col5\" >0.0243</td>\n",
       "      <td id=\"T_9bd2d_row5_col6\" class=\"data row5 col6\" >0.0244</td>\n",
       "    </tr>\n",
       "    <tr>\n",
       "      <th id=\"T_9bd2d_level0_row6\" class=\"row_heading level0 row6\" >6</th>\n",
       "      <td id=\"T_9bd2d_row6_col0\" class=\"data row6 col0\" >0.5317</td>\n",
       "      <td id=\"T_9bd2d_row6_col1\" class=\"data row6 col1\" >0.5101</td>\n",
       "      <td id=\"T_9bd2d_row6_col2\" class=\"data row6 col2\" >0.5646</td>\n",
       "      <td id=\"T_9bd2d_row6_col3\" class=\"data row6 col3\" >0.5083</td>\n",
       "      <td id=\"T_9bd2d_row6_col4\" class=\"data row6 col4\" >0.5350</td>\n",
       "      <td id=\"T_9bd2d_row6_col5\" class=\"data row6 col5\" >0.0659</td>\n",
       "      <td id=\"T_9bd2d_row6_col6\" class=\"data row6 col6\" >0.0663</td>\n",
       "    </tr>\n",
       "    <tr>\n",
       "      <th id=\"T_9bd2d_level0_row7\" class=\"row_heading level0 row7\" >7</th>\n",
       "      <td id=\"T_9bd2d_row7_col0\" class=\"data row7 col0\" >0.5273</td>\n",
       "      <td id=\"T_9bd2d_row7_col1\" class=\"data row7 col1\" >0.5072</td>\n",
       "      <td id=\"T_9bd2d_row7_col2\" class=\"data row7 col2\" >0.5701</td>\n",
       "      <td id=\"T_9bd2d_row7_col3\" class=\"data row7 col3\" >0.5041</td>\n",
       "      <td id=\"T_9bd2d_row7_col4\" class=\"data row7 col4\" >0.5351</td>\n",
       "      <td id=\"T_9bd2d_row7_col5\" class=\"data row7 col5\" >0.0580</td>\n",
       "      <td id=\"T_9bd2d_row7_col6\" class=\"data row7 col6\" >0.0584</td>\n",
       "    </tr>\n",
       "    <tr>\n",
       "      <th id=\"T_9bd2d_level0_row8\" class=\"row_heading level0 row8\" >8</th>\n",
       "      <td id=\"T_9bd2d_row8_col0\" class=\"data row8 col0\" >0.5167</td>\n",
       "      <td id=\"T_9bd2d_row8_col1\" class=\"data row8 col1\" >0.4934</td>\n",
       "      <td id=\"T_9bd2d_row8_col2\" class=\"data row8 col2\" >0.5554</td>\n",
       "      <td id=\"T_9bd2d_row8_col3\" class=\"data row8 col3\" >0.4943</td>\n",
       "      <td id=\"T_9bd2d_row8_col4\" class=\"data row8 col4\" >0.5230</td>\n",
       "      <td id=\"T_9bd2d_row8_col5\" class=\"data row8 col5\" >0.0366</td>\n",
       "      <td id=\"T_9bd2d_row8_col6\" class=\"data row8 col6\" >0.0369</td>\n",
       "    </tr>\n",
       "    <tr>\n",
       "      <th id=\"T_9bd2d_level0_row9\" class=\"row_heading level0 row9\" >9</th>\n",
       "      <td id=\"T_9bd2d_row9_col0\" class=\"data row9 col0\" >0.5489</td>\n",
       "      <td id=\"T_9bd2d_row9_col1\" class=\"data row9 col1\" >0.5371</td>\n",
       "      <td id=\"T_9bd2d_row9_col2\" class=\"data row9 col2\" >0.5720</td>\n",
       "      <td id=\"T_9bd2d_row9_col3\" class=\"data row9 col3\" >0.5254</td>\n",
       "      <td id=\"T_9bd2d_row9_col4\" class=\"data row9 col4\" >0.5477</td>\n",
       "      <td id=\"T_9bd2d_row9_col5\" class=\"data row9 col5\" >0.0994</td>\n",
       "      <td id=\"T_9bd2d_row9_col6\" class=\"data row9 col6\" >0.0998</td>\n",
       "    </tr>\n",
       "    <tr>\n",
       "      <th id=\"T_9bd2d_level0_row10\" class=\"row_heading level0 row10\" >Mean</th>\n",
       "      <td id=\"T_9bd2d_row10_col0\" class=\"data row10 col0\" >0.5324</td>\n",
       "      <td id=\"T_9bd2d_row10_col1\" class=\"data row10 col1\" >0.5139</td>\n",
       "      <td id=\"T_9bd2d_row10_col2\" class=\"data row10 col2\" >0.5710</td>\n",
       "      <td id=\"T_9bd2d_row10_col3\" class=\"data row10 col3\" >0.5091</td>\n",
       "      <td id=\"T_9bd2d_row10_col4\" class=\"data row10 col4\" >0.5383</td>\n",
       "      <td id=\"T_9bd2d_row10_col5\" class=\"data row10 col5\" >0.0679</td>\n",
       "      <td id=\"T_9bd2d_row10_col6\" class=\"data row10 col6\" >0.0683</td>\n",
       "    </tr>\n",
       "    <tr>\n",
       "      <th id=\"T_9bd2d_level0_row11\" class=\"row_heading level0 row11\" >Std</th>\n",
       "      <td id=\"T_9bd2d_row11_col0\" class=\"data row11 col0\" >0.0135</td>\n",
       "      <td id=\"T_9bd2d_row11_col1\" class=\"data row11 col1\" >0.0150</td>\n",
       "      <td id=\"T_9bd2d_row11_col2\" class=\"data row11 col2\" >0.0164</td>\n",
       "      <td id=\"T_9bd2d_row11_col3\" class=\"data row11 col3\" >0.0129</td>\n",
       "      <td id=\"T_9bd2d_row11_col4\" class=\"data row11 col4\" >0.0138</td>\n",
       "      <td id=\"T_9bd2d_row11_col5\" class=\"data row11 col5\" >0.0269</td>\n",
       "      <td id=\"T_9bd2d_row11_col6\" class=\"data row11 col6\" >0.0271</td>\n",
       "    </tr>\n",
       "  </tbody>\n",
       "</table>\n"
      ],
      "text/plain": [
       "\u001b[1m<\u001b[0m\u001b[1;95mpandas.io.formats.style.Styler\u001b[0m\u001b[39m object at \u001b[0m\u001b[1;36m0x7f98adf18c50\u001b[0m\u001b[1m>\u001b[0m"
      ]
     },
     "metadata": {},
     "output_type": "display_data"
    },
    {
     "data": {
      "text/html": [],
      "text/plain": [
       "\u001b[1m<\u001b[0m\u001b[1;95mIPython.core.display.HTML\u001b[0m\u001b[39m object\u001b[0m\u001b[1m>\u001b[0m"
      ]
     },
     "metadata": {},
     "output_type": "display_data"
    },
    {
     "data": {
      "text/html": [
       "<pre style=\"white-space:pre;overflow-x:auto;line-height:normal;font-family:Menlo,'DejaVu Sans Mono',consolas,'Courier New',monospace\"></pre>\n"
      ],
      "text/plain": []
     },
     "metadata": {},
     "output_type": "display_data"
    },
    {
     "data": {
      "text/html": [
       "<pre style=\"white-space:pre;overflow-x:auto;line-height:normal;font-family:Menlo,'DejaVu Sans Mono',consolas,'Courier New',monospace\"></pre>\n"
      ],
      "text/plain": []
     },
     "metadata": {},
     "output_type": "display_data"
    },
    {
     "data": {
      "text/html": [
       "<pre style=\"white-space:pre;overflow-x:auto;line-height:normal;font-family:Menlo,'DejaVu Sans Mono',consolas,'Courier New',monospace\"></pre>\n"
      ],
      "text/plain": []
     },
     "metadata": {},
     "output_type": "display_data"
    },
    {
     "data": {
      "text/html": [
       "<pre style=\"white-space:pre;overflow-x:auto;line-height:normal;font-family:Menlo,'DejaVu Sans Mono',consolas,'Courier New',monospace\"></pre>\n"
      ],
      "text/plain": []
     },
     "metadata": {},
     "output_type": "display_data"
    },
    {
     "data": {
      "text/html": [
       "<pre style=\"white-space:pre;overflow-x:auto;line-height:normal;font-family:Menlo,'DejaVu Sans Mono',consolas,'Courier New',monospace\"></pre>\n"
      ],
      "text/plain": []
     },
     "metadata": {},
     "output_type": "display_data"
    },
    {
     "data": {
      "text/html": [
       "<pre style=\"white-space:pre;overflow-x:auto;line-height:normal;font-family:Menlo,'DejaVu Sans Mono',consolas,'Courier New',monospace\"></pre>\n"
      ],
      "text/plain": []
     },
     "metadata": {},
     "output_type": "display_data"
    },
    {
     "data": {
      "text/html": [
       "<pre style=\"white-space:pre;overflow-x:auto;line-height:normal;font-family:Menlo,'DejaVu Sans Mono',consolas,'Courier New',monospace\"></pre>\n"
      ],
      "text/plain": []
     },
     "metadata": {},
     "output_type": "display_data"
    },
    {
     "data": {
      "text/html": [
       "<pre style=\"white-space:pre;overflow-x:auto;line-height:normal;font-family:Menlo,'DejaVu Sans Mono',consolas,'Courier New',monospace\"></pre>\n"
      ],
      "text/plain": []
     },
     "metadata": {},
     "output_type": "display_data"
    },
    {
     "data": {
      "text/html": [
       "<pre style=\"white-space:pre;overflow-x:auto;line-height:normal;font-family:Menlo,'DejaVu Sans Mono',consolas,'Courier New',monospace\"></pre>\n"
      ],
      "text/plain": []
     },
     "metadata": {},
     "output_type": "display_data"
    },
    {
     "data": {
      "text/html": [
       "<pre style=\"white-space:pre;overflow-x:auto;line-height:normal;font-family:Menlo,'DejaVu Sans Mono',consolas,'Courier New',monospace\"></pre>\n"
      ],
      "text/plain": []
     },
     "metadata": {},
     "output_type": "display_data"
    },
    {
     "data": {
      "text/html": [
       "<pre style=\"white-space:pre;overflow-x:auto;line-height:normal;font-family:Menlo,'DejaVu Sans Mono',consolas,'Courier New',monospace\"></pre>\n"
      ],
      "text/plain": []
     },
     "metadata": {},
     "output_type": "display_data"
    },
    {
     "data": {
      "text/html": [],
      "text/plain": [
       "\u001b[1m<\u001b[0m\u001b[1;95mIPython.core.display.HTML\u001b[0m\u001b[39m object\u001b[0m\u001b[1m>\u001b[0m"
      ]
     },
     "metadata": {},
     "output_type": "display_data"
    },
    {
     "data": {
      "text/html": [
       "<pre style=\"white-space:pre;overflow-x:auto;line-height:normal;font-family:Menlo,'DejaVu Sans Mono',consolas,'Courier New',monospace\"></pre>\n"
      ],
      "text/plain": []
     },
     "metadata": {},
     "output_type": "display_data"
    },
    {
     "data": {
      "text/html": [
       "<style type=\"text/css\">\n",
       "#T_91a73_row10_col0, #T_91a73_row10_col1, #T_91a73_row10_col2, #T_91a73_row10_col3, #T_91a73_row10_col4, #T_91a73_row10_col5, #T_91a73_row10_col6 {\n",
       "  background: yellow;\n",
       "}\n",
       "</style>\n",
       "<table id=\"T_91a73\">\n",
       "  <thead>\n",
       "    <tr>\n",
       "      <th class=\"blank level0\" >&nbsp;</th>\n",
       "      <th id=\"T_91a73_level0_col0\" class=\"col_heading level0 col0\" >Accuracy</th>\n",
       "      <th id=\"T_91a73_level0_col1\" class=\"col_heading level0 col1\" >AUC</th>\n",
       "      <th id=\"T_91a73_level0_col2\" class=\"col_heading level0 col2\" >Recall</th>\n",
       "      <th id=\"T_91a73_level0_col3\" class=\"col_heading level0 col3\" >Prec.</th>\n",
       "      <th id=\"T_91a73_level0_col4\" class=\"col_heading level0 col4\" >F1</th>\n",
       "      <th id=\"T_91a73_level0_col5\" class=\"col_heading level0 col5\" >Kappa</th>\n",
       "      <th id=\"T_91a73_level0_col6\" class=\"col_heading level0 col6\" >MCC</th>\n",
       "    </tr>\n",
       "    <tr>\n",
       "      <th class=\"index_name level0\" >Fold</th>\n",
       "      <th class=\"blank col0\" >&nbsp;</th>\n",
       "      <th class=\"blank col1\" >&nbsp;</th>\n",
       "      <th class=\"blank col2\" >&nbsp;</th>\n",
       "      <th class=\"blank col3\" >&nbsp;</th>\n",
       "      <th class=\"blank col4\" >&nbsp;</th>\n",
       "      <th class=\"blank col5\" >&nbsp;</th>\n",
       "      <th class=\"blank col6\" >&nbsp;</th>\n",
       "    </tr>\n",
       "  </thead>\n",
       "  <tbody>\n",
       "    <tr>\n",
       "      <th id=\"T_91a73_level0_row0\" class=\"row_heading level0 row0\" >0</th>\n",
       "      <td id=\"T_91a73_row0_col0\" class=\"data row0 col0\" >0.5440</td>\n",
       "      <td id=\"T_91a73_row0_col1\" class=\"data row0 col1\" >0.5696</td>\n",
       "      <td id=\"T_91a73_row0_col2\" class=\"data row0 col2\" >0.5175</td>\n",
       "      <td id=\"T_91a73_row0_col3\" class=\"data row0 col3\" >0.5233</td>\n",
       "      <td id=\"T_91a73_row0_col4\" class=\"data row0 col4\" >0.5204</td>\n",
       "      <td id=\"T_91a73_row0_col5\" class=\"data row0 col5\" >0.0858</td>\n",
       "      <td id=\"T_91a73_row0_col6\" class=\"data row0 col6\" >0.0858</td>\n",
       "    </tr>\n",
       "    <tr>\n",
       "      <th id=\"T_91a73_level0_row1\" class=\"row_heading level0 row1\" >1</th>\n",
       "      <td id=\"T_91a73_row1_col0\" class=\"data row1 col0\" >0.5484</td>\n",
       "      <td id=\"T_91a73_row1_col1\" class=\"data row1 col1\" >0.5553</td>\n",
       "      <td id=\"T_91a73_row1_col2\" class=\"data row1 col2\" >0.5175</td>\n",
       "      <td id=\"T_91a73_row1_col3\" class=\"data row1 col3\" >0.5282</td>\n",
       "      <td id=\"T_91a73_row1_col4\" class=\"data row1 col4\" >0.5228</td>\n",
       "      <td id=\"T_91a73_row1_col5\" class=\"data row1 col5\" >0.0943</td>\n",
       "      <td id=\"T_91a73_row1_col6\" class=\"data row1 col6\" >0.0943</td>\n",
       "    </tr>\n",
       "    <tr>\n",
       "      <th id=\"T_91a73_level0_row2\" class=\"row_heading level0 row2\" >2</th>\n",
       "      <td id=\"T_91a73_row2_col0\" class=\"data row2 col0\" >0.5757</td>\n",
       "      <td id=\"T_91a73_row2_col1\" class=\"data row2 col1\" >0.5821</td>\n",
       "      <td id=\"T_91a73_row2_col2\" class=\"data row2 col2\" >0.4871</td>\n",
       "      <td id=\"T_91a73_row2_col3\" class=\"data row2 col3\" >0.5641</td>\n",
       "      <td id=\"T_91a73_row2_col4\" class=\"data row2 col4\" >0.5228</td>\n",
       "      <td id=\"T_91a73_row2_col5\" class=\"data row2 col5\" >0.1445</td>\n",
       "      <td id=\"T_91a73_row2_col6\" class=\"data row2 col6\" >0.1458</td>\n",
       "    </tr>\n",
       "    <tr>\n",
       "      <th id=\"T_91a73_level0_row3\" class=\"row_heading level0 row3\" >3</th>\n",
       "      <td id=\"T_91a73_row3_col0\" class=\"data row3 col0\" >0.5898</td>\n",
       "      <td id=\"T_91a73_row3_col1\" class=\"data row3 col1\" >0.5985</td>\n",
       "      <td id=\"T_91a73_row3_col2\" class=\"data row3 col2\" >0.5406</td>\n",
       "      <td id=\"T_91a73_row3_col3\" class=\"data row3 col3\" >0.5745</td>\n",
       "      <td id=\"T_91a73_row3_col4\" class=\"data row3 col4\" >0.5570</td>\n",
       "      <td id=\"T_91a73_row3_col5\" class=\"data row3 col5\" >0.1757</td>\n",
       "      <td id=\"T_91a73_row3_col6\" class=\"data row3 col6\" >0.1760</td>\n",
       "    </tr>\n",
       "    <tr>\n",
       "      <th id=\"T_91a73_level0_row4\" class=\"row_heading level0 row4\" >4</th>\n",
       "      <td id=\"T_91a73_row4_col0\" class=\"data row4 col0\" >0.5704</td>\n",
       "      <td id=\"T_91a73_row4_col1\" class=\"data row4 col1\" >0.5703</td>\n",
       "      <td id=\"T_91a73_row4_col2\" class=\"data row4 col2\" >0.5480</td>\n",
       "      <td id=\"T_91a73_row4_col3\" class=\"data row4 col3\" >0.5500</td>\n",
       "      <td id=\"T_91a73_row4_col4\" class=\"data row4 col4\" >0.5490</td>\n",
       "      <td id=\"T_91a73_row4_col5\" class=\"data row4 col5\" >0.1389</td>\n",
       "      <td id=\"T_91a73_row4_col6\" class=\"data row4 col6\" >0.1389</td>\n",
       "    </tr>\n",
       "    <tr>\n",
       "      <th id=\"T_91a73_level0_row5\" class=\"row_heading level0 row5\" >5</th>\n",
       "      <td id=\"T_91a73_row5_col0\" class=\"data row5 col0\" >0.5343</td>\n",
       "      <td id=\"T_91a73_row5_col1\" class=\"data row5 col1\" >0.5438</td>\n",
       "      <td id=\"T_91a73_row5_col2\" class=\"data row5 col2\" >0.4705</td>\n",
       "      <td id=\"T_91a73_row5_col3\" class=\"data row5 col3\" >0.5131</td>\n",
       "      <td id=\"T_91a73_row5_col4\" class=\"data row5 col4\" >0.4909</td>\n",
       "      <td id=\"T_91a73_row5_col5\" class=\"data row5 col5\" >0.0633</td>\n",
       "      <td id=\"T_91a73_row5_col6\" class=\"data row5 col6\" >0.0635</td>\n",
       "    </tr>\n",
       "    <tr>\n",
       "      <th id=\"T_91a73_level0_row6\" class=\"row_heading level0 row6\" >6</th>\n",
       "      <td id=\"T_91a73_row6_col0\" class=\"data row6 col0\" >0.5590</td>\n",
       "      <td id=\"T_91a73_row6_col1\" class=\"data row6 col1\" >0.5540</td>\n",
       "      <td id=\"T_91a73_row6_col2\" class=\"data row6 col2\" >0.4760</td>\n",
       "      <td id=\"T_91a73_row6_col3\" class=\"data row6 col3\" >0.5432</td>\n",
       "      <td id=\"T_91a73_row6_col4\" class=\"data row6 col4\" >0.5074</td>\n",
       "      <td id=\"T_91a73_row6_col5\" class=\"data row6 col5\" >0.1113</td>\n",
       "      <td id=\"T_91a73_row6_col6\" class=\"data row6 col6\" >0.1121</td>\n",
       "    </tr>\n",
       "    <tr>\n",
       "      <th id=\"T_91a73_level0_row7\" class=\"row_heading level0 row7\" >7</th>\n",
       "      <td id=\"T_91a73_row7_col0\" class=\"data row7 col0\" >0.5449</td>\n",
       "      <td id=\"T_91a73_row7_col1\" class=\"data row7 col1\" >0.5396</td>\n",
       "      <td id=\"T_91a73_row7_col2\" class=\"data row7 col2\" >0.5055</td>\n",
       "      <td id=\"T_91a73_row7_col3\" class=\"data row7 col3\" >0.5239</td>\n",
       "      <td id=\"T_91a73_row7_col4\" class=\"data row7 col4\" >0.5146</td>\n",
       "      <td id=\"T_91a73_row7_col5\" class=\"data row7 col5\" >0.0865</td>\n",
       "      <td id=\"T_91a73_row7_col6\" class=\"data row7 col6\" >0.0865</td>\n",
       "    </tr>\n",
       "    <tr>\n",
       "      <th id=\"T_91a73_level0_row8\" class=\"row_heading level0 row8\" >8</th>\n",
       "      <td id=\"T_91a73_row8_col0\" class=\"data row8 col0\" >0.5643</td>\n",
       "      <td id=\"T_91a73_row8_col1\" class=\"data row8 col1\" >0.5666</td>\n",
       "      <td id=\"T_91a73_row8_col2\" class=\"data row8 col2\" >0.4631</td>\n",
       "      <td id=\"T_91a73_row8_col3\" class=\"data row8 col3\" >0.5516</td>\n",
       "      <td id=\"T_91a73_row8_col4\" class=\"data row8 col4\" >0.5035</td>\n",
       "      <td id=\"T_91a73_row8_col5\" class=\"data row8 col5\" >0.1205</td>\n",
       "      <td id=\"T_91a73_row8_col6\" class=\"data row8 col6\" >0.1220</td>\n",
       "    </tr>\n",
       "    <tr>\n",
       "      <th id=\"T_91a73_level0_row9\" class=\"row_heading level0 row9\" >9</th>\n",
       "      <td id=\"T_91a73_row9_col0\" class=\"data row9 col0\" >0.5841</td>\n",
       "      <td id=\"T_91a73_row9_col1\" class=\"data row9 col1\" >0.5898</td>\n",
       "      <td id=\"T_91a73_row9_col2\" class=\"data row9 col2\" >0.5775</td>\n",
       "      <td id=\"T_91a73_row9_col3\" class=\"data row9 col3\" >0.5629</td>\n",
       "      <td id=\"T_91a73_row9_col4\" class=\"data row9 col4\" >0.5701</td>\n",
       "      <td id=\"T_91a73_row9_col5\" class=\"data row9 col5\" >0.1675</td>\n",
       "      <td id=\"T_91a73_row9_col6\" class=\"data row9 col6\" >0.1676</td>\n",
       "    </tr>\n",
       "    <tr>\n",
       "      <th id=\"T_91a73_level0_row10\" class=\"row_heading level0 row10\" >Mean</th>\n",
       "      <td id=\"T_91a73_row10_col0\" class=\"data row10 col0\" >0.5615</td>\n",
       "      <td id=\"T_91a73_row10_col1\" class=\"data row10 col1\" >0.5670</td>\n",
       "      <td id=\"T_91a73_row10_col2\" class=\"data row10 col2\" >0.5103</td>\n",
       "      <td id=\"T_91a73_row10_col3\" class=\"data row10 col3\" >0.5435</td>\n",
       "      <td id=\"T_91a73_row10_col4\" class=\"data row10 col4\" >0.5258</td>\n",
       "      <td id=\"T_91a73_row10_col5\" class=\"data row10 col5\" >0.1188</td>\n",
       "      <td id=\"T_91a73_row10_col6\" class=\"data row10 col6\" >0.1193</td>\n",
       "    </tr>\n",
       "    <tr>\n",
       "      <th id=\"T_91a73_level0_row11\" class=\"row_heading level0 row11\" >Std</th>\n",
       "      <td id=\"T_91a73_row11_col0\" class=\"data row11 col0\" >0.0176</td>\n",
       "      <td id=\"T_91a73_row11_col1\" class=\"data row11 col1\" >0.0183</td>\n",
       "      <td id=\"T_91a73_row11_col2\" class=\"data row11 col2\" >0.0354</td>\n",
       "      <td id=\"T_91a73_row11_col3\" class=\"data row11 col3\" >0.0196</td>\n",
       "      <td id=\"T_91a73_row11_col4\" class=\"data row11 col4\" >0.0239</td>\n",
       "      <td id=\"T_91a73_row11_col5\" class=\"data row11 col5\" >0.0354</td>\n",
       "      <td id=\"T_91a73_row11_col6\" class=\"data row11 col6\" >0.0355</td>\n",
       "    </tr>\n",
       "  </tbody>\n",
       "</table>\n"
      ],
      "text/plain": [
       "\u001b[1m<\u001b[0m\u001b[1;95mpandas.io.formats.style.Styler\u001b[0m\u001b[39m object at \u001b[0m\u001b[1;36m0x7f98ae7fe7d0\u001b[0m\u001b[1m>\u001b[0m"
      ]
     },
     "metadata": {},
     "output_type": "display_data"
    },
    {
     "data": {
      "text/html": [],
      "text/plain": [
       "\u001b[1m<\u001b[0m\u001b[1;95mIPython.core.display.HTML\u001b[0m\u001b[39m object\u001b[0m\u001b[1m>\u001b[0m"
      ]
     },
     "metadata": {},
     "output_type": "display_data"
    },
    {
     "data": {
      "text/html": [
       "<pre style=\"white-space:pre;overflow-x:auto;line-height:normal;font-family:Menlo,'DejaVu Sans Mono',consolas,'Courier New',monospace\"></pre>\n"
      ],
      "text/plain": []
     },
     "metadata": {},
     "output_type": "display_data"
    },
    {
     "data": {
      "text/html": [
       "<pre style=\"white-space:pre;overflow-x:auto;line-height:normal;font-family:Menlo,'DejaVu Sans Mono',consolas,'Courier New',monospace\"></pre>\n"
      ],
      "text/plain": []
     },
     "metadata": {},
     "output_type": "display_data"
    },
    {
     "name": "stdout",
     "output_type": "stream",
     "text": [
      "Fitting 10 folds for each of 100 candidates, totalling 1000 fits\n"
     ]
    },
    {
     "data": {
      "text/html": [
       "<pre style=\"white-space:pre;overflow-x:auto;line-height:normal;font-family:Menlo,'DejaVu Sans Mono',consolas,'Courier New',monospace\"></pre>\n"
      ],
      "text/plain": []
     },
     "metadata": {},
     "output_type": "display_data"
    },
    {
     "data": {
      "text/html": [
       "<pre style=\"white-space:pre;overflow-x:auto;line-height:normal;font-family:Menlo,'DejaVu Sans Mono',consolas,'Courier New',monospace\"></pre>\n"
      ],
      "text/plain": []
     },
     "metadata": {},
     "output_type": "display_data"
    },
    {
     "data": {
      "text/html": [
       "<pre style=\"white-space:pre;overflow-x:auto;line-height:normal;font-family:Menlo,'DejaVu Sans Mono',consolas,'Courier New',monospace\"></pre>\n"
      ],
      "text/plain": []
     },
     "metadata": {},
     "output_type": "display_data"
    },
    {
     "data": {
      "text/html": [
       "<pre style=\"white-space:pre;overflow-x:auto;line-height:normal;font-family:Menlo,'DejaVu Sans Mono',consolas,'Courier New',monospace\"></pre>\n"
      ],
      "text/plain": []
     },
     "metadata": {},
     "output_type": "display_data"
    },
    {
     "data": {
      "text/html": [
       "<pre style=\"white-space:pre;overflow-x:auto;line-height:normal;font-family:Menlo,'DejaVu Sans Mono',consolas,'Courier New',monospace\"></pre>\n"
      ],
      "text/plain": []
     },
     "metadata": {},
     "output_type": "display_data"
    },
    {
     "data": {
      "text/html": [
       "<pre style=\"white-space:pre;overflow-x:auto;line-height:normal;font-family:Menlo,'DejaVu Sans Mono',consolas,'Courier New',monospace\"></pre>\n"
      ],
      "text/plain": []
     },
     "metadata": {},
     "output_type": "display_data"
    },
    {
     "data": {
      "text/html": [
       "<pre style=\"white-space:pre;overflow-x:auto;line-height:normal;font-family:Menlo,'DejaVu Sans Mono',consolas,'Courier New',monospace\"></pre>\n"
      ],
      "text/plain": []
     },
     "metadata": {},
     "output_type": "display_data"
    },
    {
     "data": {
      "text/html": [
       "<pre style=\"white-space:pre;overflow-x:auto;line-height:normal;font-family:Menlo,'DejaVu Sans Mono',consolas,'Courier New',monospace\"></pre>\n"
      ],
      "text/plain": []
     },
     "metadata": {},
     "output_type": "display_data"
    },
    {
     "name": "stdout",
     "output_type": "stream",
     "text": [
      "Original model was better than the tuned model, hence it will be returned. NOTE: The display metrics are for the tuned model (not the original one).\n"
     ]
    },
    {
     "data": {
      "text/html": [
       "<pre style=\"white-space:pre;overflow-x:auto;line-height:normal;font-family:Menlo,'DejaVu Sans Mono',consolas,'Courier New',monospace\"></pre>\n"
      ],
      "text/plain": []
     },
     "metadata": {},
     "output_type": "display_data"
    },
    {
     "data": {
      "text/html": [
       "<pre style=\"white-space:pre;overflow-x:auto;line-height:normal;font-family:Menlo,'DejaVu Sans Mono',consolas,'Courier New',monospace\"></pre>\n"
      ],
      "text/plain": []
     },
     "metadata": {},
     "output_type": "display_data"
    },
    {
     "data": {
      "text/html": [
       "<pre style=\"white-space:pre;overflow-x:auto;line-height:normal;font-family:Menlo,'DejaVu Sans Mono',consolas,'Courier New',monospace\"></pre>\n"
      ],
      "text/plain": []
     },
     "metadata": {},
     "output_type": "display_data"
    }
   ],
   "source": [
    "from pycaret.classification import *\n",
    "exp_dt = ClassificationExperiment()\n",
    "exp_dt.setup(data=data_train, target='shot_made_flag', session_id=3128)\n",
    "\n",
    "model_dt = exp_dt.create_model('dt')\n",
    "\n",
    "randcv_model_dt = exp_dt.tune_model(model_dt, n_iter=100, optimize='F1')\n"
   ]
  },
  {
   "cell_type": "code",
   "execution_count": 14,
   "id": "aae37a65-4376-4e2e-aabe-dfda64b4d65d",
   "metadata": {},
   "outputs": [
    {
     "data": {
      "text/html": [
       "<pre style=\"white-space:pre;overflow-x:auto;line-height:normal;font-family:Menlo,'DejaVu Sans Mono',consolas,'Courier New',monospace\"></pre>\n"
      ],
      "text/plain": []
     },
     "metadata": {},
     "output_type": "display_data"
    },
    {
     "data": {
      "text/html": [
       "<style type=\"text/css\">\n",
       "</style>\n",
       "<table id=\"T_3226a\">\n",
       "  <thead>\n",
       "    <tr>\n",
       "      <th class=\"blank level0\" >&nbsp;</th>\n",
       "      <th id=\"T_3226a_level0_col0\" class=\"col_heading level0 col0\" >Model</th>\n",
       "      <th id=\"T_3226a_level0_col1\" class=\"col_heading level0 col1\" >Accuracy</th>\n",
       "      <th id=\"T_3226a_level0_col2\" class=\"col_heading level0 col2\" >AUC</th>\n",
       "      <th id=\"T_3226a_level0_col3\" class=\"col_heading level0 col3\" >Recall</th>\n",
       "      <th id=\"T_3226a_level0_col4\" class=\"col_heading level0 col4\" >Prec.</th>\n",
       "      <th id=\"T_3226a_level0_col5\" class=\"col_heading level0 col5\" >F1</th>\n",
       "      <th id=\"T_3226a_level0_col6\" class=\"col_heading level0 col6\" >Kappa</th>\n",
       "      <th id=\"T_3226a_level0_col7\" class=\"col_heading level0 col7\" >MCC</th>\n",
       "    </tr>\n",
       "  </thead>\n",
       "  <tbody>\n",
       "    <tr>\n",
       "      <th id=\"T_3226a_level0_row0\" class=\"row_heading level0 row0\" >0</th>\n",
       "      <td id=\"T_3226a_row0_col0\" class=\"data row0 col0\" >Decision Tree Classifier</td>\n",
       "      <td id=\"T_3226a_row0_col1\" class=\"data row0 col1\" >0.5317</td>\n",
       "      <td id=\"T_3226a_row0_col2\" class=\"data row0 col2\" >0.5105</td>\n",
       "      <td id=\"T_3226a_row0_col3\" class=\"data row0 col3\" >0.5818</td>\n",
       "      <td id=\"T_3226a_row0_col4\" class=\"data row0 col4\" >0.5083</td>\n",
       "      <td id=\"T_3226a_row0_col5\" class=\"data row0 col5\" >0.5426</td>\n",
       "      <td id=\"T_3226a_row0_col6\" class=\"data row0 col6\" >0.0673</td>\n",
       "      <td id=\"T_3226a_row0_col7\" class=\"data row0 col7\" >0.0679</td>\n",
       "    </tr>\n",
       "  </tbody>\n",
       "</table>\n"
      ],
      "text/plain": [
       "\u001b[1m<\u001b[0m\u001b[1;95mpandas.io.formats.style.Styler\u001b[0m\u001b[39m object at \u001b[0m\u001b[1;36m0x7f98ade74f90\u001b[0m\u001b[1m>\u001b[0m"
      ]
     },
     "metadata": {},
     "output_type": "display_data"
    },
    {
     "data": {
      "text/html": [
       "<pre style=\"white-space:pre;overflow-x:auto;line-height:normal;font-family:Menlo,'DejaVu Sans Mono',consolas,'Courier New',monospace\"></pre>\n"
      ],
      "text/plain": []
     },
     "metadata": {},
     "output_type": "display_data"
    },
    {
     "name": "stdout",
     "output_type": "stream",
     "text": [
      "AUC of best-tuned model: 0.5105\n"
     ]
    },
    {
     "data": {
      "text/html": [
       "<pre style=\"white-space:pre;overflow-x:auto;line-height:normal;font-family:Menlo,'DejaVu Sans Mono',consolas,'Courier New',monospace\"></pre>\n"
      ],
      "text/plain": []
     },
     "metadata": {},
     "output_type": "display_data"
    },
    {
     "data": {
      "image/png": "[encoded data removed]",
      "text/plain": [
       "\u001b[1m<\u001b[0m\u001b[1;95mFigure\u001b[0m\u001b[39m size 80\u001b[0m\u001b[1;36m0x550\u001b[0m\u001b[39m with \u001b[0m\u001b[1;36m1\u001b[0m\u001b[39m Axes\u001b[0m\u001b[1m>\u001b[0m"
      ]
     },
     "metadata": {},
     "output_type": "display_data"
    }
   ],
   "source": [
    "from sklearn.metrics import roc_auc_score, roc_curve\n",
    "import matplotlib.pyplot as plt\n",
    "\n",
    "predictions = exp_dt.predict_model(randcv_model_dt, data=data_test)\n",
    "\n",
    "y_true = data_test_y  \n",
    "y_scores = randcv_model_dt.predict_proba(data_test_x)[:, 1]\n",
    "\n",
    "fpr, tpr, _ = roc_curve(y_true, y_scores)\n",
    "auc_score = roc_auc_score(y_true, y_scores)\n",
    "\n",
    "print(f\"AUC of best-tuned model: {auc_score:.4f}\")\n",
    "\n",
    "plt.figure()\n",
    "plt.plot(fpr, tpr, color='darkorange', lw=2, label=f'Curva ROC (AUC = {auc_score:.2f})')\n",
    "plt.plot([0, 1], [0, 1], color='blue', lw=2, linestyle='--')\n",
    "plt.xlim([0.0, 1.10])\n",
    "plt.ylim([0.0, 1.10])\n",
    "plt.xlabel('Taxa Falsos Positivos')\n",
    "plt.ylabel('Taxa Verdadeiros Positivos')\n",
    "plt.title(f'Curva ROC - DT')\n",
    "plt.legend(loc=\"lower right\")\n",
    "    \n",
    "plt.show()"
   ]
  },
  {
   "cell_type": "code",
   "execution_count": 15,
   "id": "e13198af-916a-48a1-a27c-1f3979040b8d",
   "metadata": {},
   "outputs": [
    {
     "data": {
      "text/html": [
       "<pre style=\"white-space:pre;overflow-x:auto;line-height:normal;font-family:Menlo,'DejaVu Sans Mono',consolas,'Courier New',monospace\"></pre>\n"
      ],
      "text/plain": []
     },
     "metadata": {},
     "output_type": "display_data"
    },
    {
     "data": {
      "text/html": [
       "<style type=\"text/css\">\n",
       "#T_319a8_row8_col1 {\n",
       "  background-color: lightgreen;\n",
       "}\n",
       "</style>\n",
       "<table id=\"T_319a8\">\n",
       "  <thead>\n",
       "    <tr>\n",
       "      <th class=\"blank level0\" >&nbsp;</th>\n",
       "      <th id=\"T_319a8_level0_col0\" class=\"col_heading level0 col0\" >Description</th>\n",
       "      <th id=\"T_319a8_level0_col1\" class=\"col_heading level0 col1\" >Value</th>\n",
       "    </tr>\n",
       "  </thead>\n",
       "  <tbody>\n",
       "    <tr>\n",
       "      <th id=\"T_319a8_level0_row0\" class=\"row_heading level0 row0\" >0</th>\n",
       "      <td id=\"T_319a8_row0_col0\" class=\"data row0 col0\" >Session id</td>\n",
       "      <td id=\"T_319a8_row0_col1\" class=\"data row0 col1\" >3128</td>\n",
       "    </tr>\n",
       "    <tr>\n",
       "      <th id=\"T_319a8_level0_row1\" class=\"row_heading level0 row1\" >1</th>\n",
       "      <td id=\"T_319a8_row1_col0\" class=\"data row1 col0\" >Target</td>\n",
       "      <td id=\"T_319a8_row1_col1\" class=\"data row1 col1\" >shot_made_flag</td>\n",
       "    </tr>\n",
       "    <tr>\n",
       "      <th id=\"T_319a8_level0_row2\" class=\"row_heading level0 row2\" >2</th>\n",
       "      <td id=\"T_319a8_row2_col0\" class=\"data row2 col0\" >Target type</td>\n",
       "      <td id=\"T_319a8_row2_col1\" class=\"data row2 col1\" >Binary</td>\n",
       "    </tr>\n",
       "    <tr>\n",
       "      <th id=\"T_319a8_level0_row3\" class=\"row_heading level0 row3\" >3</th>\n",
       "      <td id=\"T_319a8_row3_col0\" class=\"data row3 col0\" >Original data shape</td>\n",
       "      <td id=\"T_319a8_row3_col1\" class=\"data row3 col1\" >(16228, 7)</td>\n",
       "    </tr>\n",
       "    <tr>\n",
       "      <th id=\"T_319a8_level0_row4\" class=\"row_heading level0 row4\" >4</th>\n",
       "      <td id=\"T_319a8_row4_col0\" class=\"data row4 col0\" >Transformed data shape</td>\n",
       "      <td id=\"T_319a8_row4_col1\" class=\"data row4 col1\" >(16228, 7)</td>\n",
       "    </tr>\n",
       "    <tr>\n",
       "      <th id=\"T_319a8_level0_row5\" class=\"row_heading level0 row5\" >5</th>\n",
       "      <td id=\"T_319a8_row5_col0\" class=\"data row5 col0\" >Transformed train set shape</td>\n",
       "      <td id=\"T_319a8_row5_col1\" class=\"data row5 col1\" >(11359, 7)</td>\n",
       "    </tr>\n",
       "    <tr>\n",
       "      <th id=\"T_319a8_level0_row6\" class=\"row_heading level0 row6\" >6</th>\n",
       "      <td id=\"T_319a8_row6_col0\" class=\"data row6 col0\" >Transformed test set shape</td>\n",
       "      <td id=\"T_319a8_row6_col1\" class=\"data row6 col1\" >(4869, 7)</td>\n",
       "    </tr>\n",
       "    <tr>\n",
       "      <th id=\"T_319a8_level0_row7\" class=\"row_heading level0 row7\" >7</th>\n",
       "      <td id=\"T_319a8_row7_col0\" class=\"data row7 col0\" >Numeric features</td>\n",
       "      <td id=\"T_319a8_row7_col1\" class=\"data row7 col1\" >5</td>\n",
       "    </tr>\n",
       "    <tr>\n",
       "      <th id=\"T_319a8_level0_row8\" class=\"row_heading level0 row8\" >8</th>\n",
       "      <td id=\"T_319a8_row8_col0\" class=\"data row8 col0\" >Preprocess</td>\n",
       "      <td id=\"T_319a8_row8_col1\" class=\"data row8 col1\" >True</td>\n",
       "    </tr>\n",
       "    <tr>\n",
       "      <th id=\"T_319a8_level0_row9\" class=\"row_heading level0 row9\" >9</th>\n",
       "      <td id=\"T_319a8_row9_col0\" class=\"data row9 col0\" >Imputation type</td>\n",
       "      <td id=\"T_319a8_row9_col1\" class=\"data row9 col1\" >simple</td>\n",
       "    </tr>\n",
       "    <tr>\n",
       "      <th id=\"T_319a8_level0_row10\" class=\"row_heading level0 row10\" >10</th>\n",
       "      <td id=\"T_319a8_row10_col0\" class=\"data row10 col0\" >Numeric imputation</td>\n",
       "      <td id=\"T_319a8_row10_col1\" class=\"data row10 col1\" >mean</td>\n",
       "    </tr>\n",
       "    <tr>\n",
       "      <th id=\"T_319a8_level0_row11\" class=\"row_heading level0 row11\" >11</th>\n",
       "      <td id=\"T_319a8_row11_col0\" class=\"data row11 col0\" >Categorical imputation</td>\n",
       "      <td id=\"T_319a8_row11_col1\" class=\"data row11 col1\" >mode</td>\n",
       "    </tr>\n",
       "    <tr>\n",
       "      <th id=\"T_319a8_level0_row12\" class=\"row_heading level0 row12\" >12</th>\n",
       "      <td id=\"T_319a8_row12_col0\" class=\"data row12 col0\" >Fold Generator</td>\n",
       "      <td id=\"T_319a8_row12_col1\" class=\"data row12 col1\" >StratifiedKFold</td>\n",
       "    </tr>\n",
       "    <tr>\n",
       "      <th id=\"T_319a8_level0_row13\" class=\"row_heading level0 row13\" >13</th>\n",
       "      <td id=\"T_319a8_row13_col0\" class=\"data row13 col0\" >Fold Number</td>\n",
       "      <td id=\"T_319a8_row13_col1\" class=\"data row13 col1\" >10</td>\n",
       "    </tr>\n",
       "    <tr>\n",
       "      <th id=\"T_319a8_level0_row14\" class=\"row_heading level0 row14\" >14</th>\n",
       "      <td id=\"T_319a8_row14_col0\" class=\"data row14 col0\" >CPU Jobs</td>\n",
       "      <td id=\"T_319a8_row14_col1\" class=\"data row14 col1\" >-1</td>\n",
       "    </tr>\n",
       "    <tr>\n",
       "      <th id=\"T_319a8_level0_row15\" class=\"row_heading level0 row15\" >15</th>\n",
       "      <td id=\"T_319a8_row15_col0\" class=\"data row15 col0\" >Use GPU</td>\n",
       "      <td id=\"T_319a8_row15_col1\" class=\"data row15 col1\" >False</td>\n",
       "    </tr>\n",
       "    <tr>\n",
       "      <th id=\"T_319a8_level0_row16\" class=\"row_heading level0 row16\" >16</th>\n",
       "      <td id=\"T_319a8_row16_col0\" class=\"data row16 col0\" >Log Experiment</td>\n",
       "      <td id=\"T_319a8_row16_col1\" class=\"data row16 col1\" >False</td>\n",
       "    </tr>\n",
       "    <tr>\n",
       "      <th id=\"T_319a8_level0_row17\" class=\"row_heading level0 row17\" >17</th>\n",
       "      <td id=\"T_319a8_row17_col0\" class=\"data row17 col0\" >Experiment Name</td>\n",
       "      <td id=\"T_319a8_row17_col1\" class=\"data row17 col1\" >clf-default-name</td>\n",
       "    </tr>\n",
       "    <tr>\n",
       "      <th id=\"T_319a8_level0_row18\" class=\"row_heading level0 row18\" >18</th>\n",
       "      <td id=\"T_319a8_row18_col0\" class=\"data row18 col0\" >USI</td>\n",
       "      <td id=\"T_319a8_row18_col1\" class=\"data row18 col1\" >f5a1</td>\n",
       "    </tr>\n",
       "  </tbody>\n",
       "</table>\n"
      ],
      "text/plain": [
       "\u001b[1m<\u001b[0m\u001b[1;95mpandas.io.formats.style.Styler\u001b[0m\u001b[39m object at \u001b[0m\u001b[1;36m0x7f9914ad8510\u001b[0m\u001b[1m>\u001b[0m"
      ]
     },
     "metadata": {},
     "output_type": "display_data"
    },
    {
     "data": {
      "text/html": [
       "<pre style=\"white-space:pre;overflow-x:auto;line-height:normal;font-family:Menlo,'DejaVu Sans Mono',consolas,'Courier New',monospace\"></pre>\n"
      ],
      "text/plain": []
     },
     "metadata": {},
     "output_type": "display_data"
    },
    {
     "data": {
      "text/html": [
       "<pre style=\"white-space:pre;overflow-x:auto;line-height:normal;font-family:Menlo,'DejaVu Sans Mono',consolas,'Courier New',monospace\"></pre>\n"
      ],
      "text/plain": []
     },
     "metadata": {},
     "output_type": "display_data"
    },
    {
     "data": {
      "text/html": [],
      "text/plain": [
       "\u001b[1m<\u001b[0m\u001b[1;95mIPython.core.display.HTML\u001b[0m\u001b[39m object\u001b[0m\u001b[1m>\u001b[0m"
      ]
     },
     "metadata": {},
     "output_type": "display_data"
    },
    {
     "data": {
      "text/html": [
       "<pre style=\"white-space:pre;overflow-x:auto;line-height:normal;font-family:Menlo,'DejaVu Sans Mono',consolas,'Courier New',monospace\"></pre>\n"
      ],
      "text/plain": []
     },
     "metadata": {},
     "output_type": "display_data"
    },
    {
     "data": {
      "text/html": [
       "<style type=\"text/css\">\n",
       "#T_4b74b_row10_col0, #T_4b74b_row10_col1, #T_4b74b_row10_col2, #T_4b74b_row10_col3, #T_4b74b_row10_col4, #T_4b74b_row10_col5, #T_4b74b_row10_col6 {\n",
       "  background: yellow;\n",
       "}\n",
       "</style>\n",
       "<table id=\"T_4b74b\">\n",
       "  <thead>\n",
       "    <tr>\n",
       "      <th class=\"blank level0\" >&nbsp;</th>\n",
       "      <th id=\"T_4b74b_level0_col0\" class=\"col_heading level0 col0\" >Accuracy</th>\n",
       "      <th id=\"T_4b74b_level0_col1\" class=\"col_heading level0 col1\" >AUC</th>\n",
       "      <th id=\"T_4b74b_level0_col2\" class=\"col_heading level0 col2\" >Recall</th>\n",
       "      <th id=\"T_4b74b_level0_col3\" class=\"col_heading level0 col3\" >Prec.</th>\n",
       "      <th id=\"T_4b74b_level0_col4\" class=\"col_heading level0 col4\" >F1</th>\n",
       "      <th id=\"T_4b74b_level0_col5\" class=\"col_heading level0 col5\" >Kappa</th>\n",
       "      <th id=\"T_4b74b_level0_col6\" class=\"col_heading level0 col6\" >MCC</th>\n",
       "    </tr>\n",
       "    <tr>\n",
       "      <th class=\"index_name level0\" >Fold</th>\n",
       "      <th class=\"blank col0\" >&nbsp;</th>\n",
       "      <th class=\"blank col1\" >&nbsp;</th>\n",
       "      <th class=\"blank col2\" >&nbsp;</th>\n",
       "      <th class=\"blank col3\" >&nbsp;</th>\n",
       "      <th class=\"blank col4\" >&nbsp;</th>\n",
       "      <th class=\"blank col5\" >&nbsp;</th>\n",
       "      <th class=\"blank col6\" >&nbsp;</th>\n",
       "    </tr>\n",
       "  </thead>\n",
       "  <tbody>\n",
       "    <tr>\n",
       "      <th id=\"T_4b74b_level0_row0\" class=\"row_heading level0 row0\" >0</th>\n",
       "      <td id=\"T_4b74b_row0_col0\" class=\"data row0 col0\" >0.5731</td>\n",
       "      <td id=\"T_4b74b_row0_col1\" class=\"data row0 col1\" >0.5991</td>\n",
       "      <td id=\"T_4b74b_row0_col2\" class=\"data row0 col2\" >0.4788</td>\n",
       "      <td id=\"T_4b74b_row0_col3\" class=\"data row0 col3\" >0.5628</td>\n",
       "      <td id=\"T_4b74b_row0_col4\" class=\"data row0 col4\" >0.5174</td>\n",
       "      <td id=\"T_4b74b_row0_col5\" class=\"data row0 col5\" >0.1391</td>\n",
       "      <td id=\"T_4b74b_row0_col6\" class=\"data row0 col6\" >0.1405</td>\n",
       "    </tr>\n",
       "    <tr>\n",
       "      <th id=\"T_4b74b_level0_row1\" class=\"row_heading level0 row1\" >1</th>\n",
       "      <td id=\"T_4b74b_row1_col0\" class=\"data row1 col0\" >0.5757</td>\n",
       "      <td id=\"T_4b74b_row1_col1\" class=\"data row1 col1\" >0.6019</td>\n",
       "      <td id=\"T_4b74b_row1_col2\" class=\"data row1 col2\" >0.5120</td>\n",
       "      <td id=\"T_4b74b_row1_col3\" class=\"data row1 col3\" >0.5616</td>\n",
       "      <td id=\"T_4b74b_row1_col4\" class=\"data row1 col4\" >0.5356</td>\n",
       "      <td id=\"T_4b74b_row1_col5\" class=\"data row1 col5\" >0.1466</td>\n",
       "      <td id=\"T_4b74b_row1_col6\" class=\"data row1 col6\" >0.1471</td>\n",
       "    </tr>\n",
       "    <tr>\n",
       "      <th id=\"T_4b74b_level0_row2\" class=\"row_heading level0 row2\" >2</th>\n",
       "      <td id=\"T_4b74b_row2_col0\" class=\"data row2 col0\" >0.5845</td>\n",
       "      <td id=\"T_4b74b_row2_col1\" class=\"data row2 col1\" >0.6078</td>\n",
       "      <td id=\"T_4b74b_row2_col2\" class=\"data row2 col2\" >0.4705</td>\n",
       "      <td id=\"T_4b74b_row2_col3\" class=\"data row2 col3\" >0.5795</td>\n",
       "      <td id=\"T_4b74b_row2_col4\" class=\"data row2 col4\" >0.5193</td>\n",
       "      <td id=\"T_4b74b_row2_col5\" class=\"data row2 col5\" >0.1604</td>\n",
       "      <td id=\"T_4b74b_row2_col6\" class=\"data row2 col6\" >0.1631</td>\n",
       "    </tr>\n",
       "    <tr>\n",
       "      <th id=\"T_4b74b_level0_row3\" class=\"row_heading level0 row3\" >3</th>\n",
       "      <td id=\"T_4b74b_row3_col0\" class=\"data row3 col0\" >0.6118</td>\n",
       "      <td id=\"T_4b74b_row3_col1\" class=\"data row3 col1\" >0.6269</td>\n",
       "      <td id=\"T_4b74b_row3_col2\" class=\"data row3 col2\" >0.5258</td>\n",
       "      <td id=\"T_4b74b_row3_col3\" class=\"data row3 col3\" >0.6077</td>\n",
       "      <td id=\"T_4b74b_row3_col4\" class=\"data row3 col4\" >0.5638</td>\n",
       "      <td id=\"T_4b74b_row3_col5\" class=\"data row3 col5\" >0.2173</td>\n",
       "      <td id=\"T_4b74b_row3_col6\" class=\"data row3 col6\" >0.2192</td>\n",
       "    </tr>\n",
       "    <tr>\n",
       "      <th id=\"T_4b74b_level0_row4\" class=\"row_heading level0 row4\" >4</th>\n",
       "      <td id=\"T_4b74b_row4_col0\" class=\"data row4 col0\" >0.5423</td>\n",
       "      <td id=\"T_4b74b_row4_col1\" class=\"data row4 col1\" >0.5746</td>\n",
       "      <td id=\"T_4b74b_row4_col2\" class=\"data row4 col2\" >0.4502</td>\n",
       "      <td id=\"T_4b74b_row4_col3\" class=\"data row4 col3\" >0.5236</td>\n",
       "      <td id=\"T_4b74b_row4_col4\" class=\"data row4 col4\" >0.4841</td>\n",
       "      <td id=\"T_4b74b_row4_col5\" class=\"data row4 col5\" >0.0769</td>\n",
       "      <td id=\"T_4b74b_row4_col6\" class=\"data row4 col6\" >0.0776</td>\n",
       "    </tr>\n",
       "    <tr>\n",
       "      <th id=\"T_4b74b_level0_row5\" class=\"row_heading level0 row5\" >5</th>\n",
       "      <td id=\"T_4b74b_row5_col0\" class=\"data row5 col0\" >0.5651</td>\n",
       "      <td id=\"T_4b74b_row5_col1\" class=\"data row5 col1\" >0.5814</td>\n",
       "      <td id=\"T_4b74b_row5_col2\" class=\"data row5 col2\" >0.4779</td>\n",
       "      <td id=\"T_4b74b_row5_col3\" class=\"data row5 col3\" >0.5511</td>\n",
       "      <td id=\"T_4b74b_row5_col4\" class=\"data row5 col4\" >0.5119</td>\n",
       "      <td id=\"T_4b74b_row5_col5\" class=\"data row5 col5\" >0.1234</td>\n",
       "      <td id=\"T_4b74b_row5_col6\" class=\"data row5 col6\" >0.1244</td>\n",
       "    </tr>\n",
       "    <tr>\n",
       "      <th id=\"T_4b74b_level0_row6\" class=\"row_heading level0 row6\" >6</th>\n",
       "      <td id=\"T_4b74b_row6_col0\" class=\"data row6 col0\" >0.5590</td>\n",
       "      <td id=\"T_4b74b_row6_col1\" class=\"data row6 col1\" >0.5793</td>\n",
       "      <td id=\"T_4b74b_row6_col2\" class=\"data row6 col2\" >0.4262</td>\n",
       "      <td id=\"T_4b74b_row6_col3\" class=\"data row6 col3\" >0.5487</td>\n",
       "      <td id=\"T_4b74b_row6_col4\" class=\"data row6 col4\" >0.4798</td>\n",
       "      <td id=\"T_4b74b_row6_col5\" class=\"data row6 col5\" >0.1074</td>\n",
       "      <td id=\"T_4b74b_row6_col6\" class=\"data row6 col6\" >0.1100</td>\n",
       "    </tr>\n",
       "    <tr>\n",
       "      <th id=\"T_4b74b_level0_row7\" class=\"row_heading level0 row7\" >7</th>\n",
       "      <td id=\"T_4b74b_row7_col0\" class=\"data row7 col0\" >0.5898</td>\n",
       "      <td id=\"T_4b74b_row7_col1\" class=\"data row7 col1\" >0.6022</td>\n",
       "      <td id=\"T_4b74b_row7_col2\" class=\"data row7 col2\" >0.4982</td>\n",
       "      <td id=\"T_4b74b_row7_col3\" class=\"data row7 col3\" >0.5819</td>\n",
       "      <td id=\"T_4b74b_row7_col4\" class=\"data row7 col4\" >0.5368</td>\n",
       "      <td id=\"T_4b74b_row7_col5\" class=\"data row7 col5\" >0.1726</td>\n",
       "      <td id=\"T_4b74b_row7_col6\" class=\"data row7 col6\" >0.1743</td>\n",
       "    </tr>\n",
       "    <tr>\n",
       "      <th id=\"T_4b74b_level0_row8\" class=\"row_heading level0 row8\" >8</th>\n",
       "      <td id=\"T_4b74b_row8_col0\" class=\"data row8 col0\" >0.5590</td>\n",
       "      <td id=\"T_4b74b_row8_col1\" class=\"data row8 col1\" >0.5703</td>\n",
       "      <td id=\"T_4b74b_row8_col2\" class=\"data row8 col2\" >0.4742</td>\n",
       "      <td id=\"T_4b74b_row8_col3\" class=\"data row8 col3\" >0.5433</td>\n",
       "      <td id=\"T_4b74b_row8_col4\" class=\"data row8 col4\" >0.5064</td>\n",
       "      <td id=\"T_4b74b_row8_col5\" class=\"data row8 col5\" >0.1112</td>\n",
       "      <td id=\"T_4b74b_row8_col6\" class=\"data row8 col6\" >0.1120</td>\n",
       "    </tr>\n",
       "    <tr>\n",
       "      <th id=\"T_4b74b_level0_row9\" class=\"row_heading level0 row9\" >9</th>\n",
       "      <td id=\"T_4b74b_row9_col0\" class=\"data row9 col0\" >0.5771</td>\n",
       "      <td id=\"T_4b74b_row9_col1\" class=\"data row9 col1\" >0.5990</td>\n",
       "      <td id=\"T_4b74b_row9_col2\" class=\"data row9 col2\" >0.4889</td>\n",
       "      <td id=\"T_4b74b_row9_col3\" class=\"data row9 col3\" >0.5662</td>\n",
       "      <td id=\"T_4b74b_row9_col4\" class=\"data row9 col4\" >0.5248</td>\n",
       "      <td id=\"T_4b74b_row9_col5\" class=\"data row9 col5\" >0.1475</td>\n",
       "      <td id=\"T_4b74b_row9_col6\" class=\"data row9 col6\" >0.1488</td>\n",
       "    </tr>\n",
       "    <tr>\n",
       "      <th id=\"T_4b74b_level0_row10\" class=\"row_heading level0 row10\" >Mean</th>\n",
       "      <td id=\"T_4b74b_row10_col0\" class=\"data row10 col0\" >0.5737</td>\n",
       "      <td id=\"T_4b74b_row10_col1\" class=\"data row10 col1\" >0.5942</td>\n",
       "      <td id=\"T_4b74b_row10_col2\" class=\"data row10 col2\" >0.4803</td>\n",
       "      <td id=\"T_4b74b_row10_col3\" class=\"data row10 col3\" >0.5626</td>\n",
       "      <td id=\"T_4b74b_row10_col4\" class=\"data row10 col4\" >0.5180</td>\n",
       "      <td id=\"T_4b74b_row10_col5\" class=\"data row10 col5\" >0.1402</td>\n",
       "      <td id=\"T_4b74b_row10_col6\" class=\"data row10 col6\" >0.1417</td>\n",
       "    </tr>\n",
       "    <tr>\n",
       "      <th id=\"T_4b74b_level0_row11\" class=\"row_heading level0 row11\" >Std</th>\n",
       "      <td id=\"T_4b74b_row11_col0\" class=\"data row11 col0\" >0.0183</td>\n",
       "      <td id=\"T_4b74b_row11_col1\" class=\"data row11 col1\" >0.0166</td>\n",
       "      <td id=\"T_4b74b_row11_col2\" class=\"data row11 col2\" >0.0273</td>\n",
       "      <td id=\"T_4b74b_row11_col3\" class=\"data row11 col3\" >0.0222</td>\n",
       "      <td id=\"T_4b74b_row11_col4\" class=\"data row11 col4\" >0.0236</td>\n",
       "      <td id=\"T_4b74b_row11_col5\" class=\"data row11 col5\" >0.0370</td>\n",
       "      <td id=\"T_4b74b_row11_col6\" class=\"data row11 col6\" >0.0373</td>\n",
       "    </tr>\n",
       "  </tbody>\n",
       "</table>\n"
      ],
      "text/plain": [
       "\u001b[1m<\u001b[0m\u001b[1;95mpandas.io.formats.style.Styler\u001b[0m\u001b[39m object at \u001b[0m\u001b[1;36m0x7f9915dd9b90\u001b[0m\u001b[1m>\u001b[0m"
      ]
     },
     "metadata": {},
     "output_type": "display_data"
    },
    {
     "data": {
      "text/html": [],
      "text/plain": [
       "\u001b[1m<\u001b[0m\u001b[1;95mIPython.core.display.HTML\u001b[0m\u001b[39m object\u001b[0m\u001b[1m>\u001b[0m"
      ]
     },
     "metadata": {},
     "output_type": "display_data"
    },
    {
     "data": {
      "text/html": [
       "<pre style=\"white-space:pre;overflow-x:auto;line-height:normal;font-family:Menlo,'DejaVu Sans Mono',consolas,'Courier New',monospace\"></pre>\n"
      ],
      "text/plain": []
     },
     "metadata": {},
     "output_type": "display_data"
    },
    {
     "data": {
      "text/html": [
       "<pre style=\"white-space:pre;overflow-x:auto;line-height:normal;font-family:Menlo,'DejaVu Sans Mono',consolas,'Courier New',monospace\"></pre>\n"
      ],
      "text/plain": []
     },
     "metadata": {},
     "output_type": "display_data"
    },
    {
     "data": {
      "text/html": [
       "<pre style=\"white-space:pre;overflow-x:auto;line-height:normal;font-family:Menlo,'DejaVu Sans Mono',consolas,'Courier New',monospace\"></pre>\n"
      ],
      "text/plain": []
     },
     "metadata": {},
     "output_type": "display_data"
    },
    {
     "data": {
      "text/html": [
       "<pre style=\"white-space:pre;overflow-x:auto;line-height:normal;font-family:Menlo,'DejaVu Sans Mono',consolas,'Courier New',monospace\"></pre>\n"
      ],
      "text/plain": []
     },
     "metadata": {},
     "output_type": "display_data"
    },
    {
     "data": {
      "text/html": [
       "<pre style=\"white-space:pre;overflow-x:auto;line-height:normal;font-family:Menlo,'DejaVu Sans Mono',consolas,'Courier New',monospace\"></pre>\n"
      ],
      "text/plain": []
     },
     "metadata": {},
     "output_type": "display_data"
    },
    {
     "data": {
      "text/html": [
       "<pre style=\"white-space:pre;overflow-x:auto;line-height:normal;font-family:Menlo,'DejaVu Sans Mono',consolas,'Courier New',monospace\"></pre>\n"
      ],
      "text/plain": []
     },
     "metadata": {},
     "output_type": "display_data"
    },
    {
     "data": {
      "text/html": [
       "<pre style=\"white-space:pre;overflow-x:auto;line-height:normal;font-family:Menlo,'DejaVu Sans Mono',consolas,'Courier New',monospace\"></pre>\n"
      ],
      "text/plain": []
     },
     "metadata": {},
     "output_type": "display_data"
    },
    {
     "data": {
      "text/html": [
       "<pre style=\"white-space:pre;overflow-x:auto;line-height:normal;font-family:Menlo,'DejaVu Sans Mono',consolas,'Courier New',monospace\"></pre>\n"
      ],
      "text/plain": []
     },
     "metadata": {},
     "output_type": "display_data"
    },
    {
     "data": {
      "text/html": [
       "<pre style=\"white-space:pre;overflow-x:auto;line-height:normal;font-family:Menlo,'DejaVu Sans Mono',consolas,'Courier New',monospace\"></pre>\n"
      ],
      "text/plain": []
     },
     "metadata": {},
     "output_type": "display_data"
    },
    {
     "data": {
      "text/html": [
       "<pre style=\"white-space:pre;overflow-x:auto;line-height:normal;font-family:Menlo,'DejaVu Sans Mono',consolas,'Courier New',monospace\"></pre>\n"
      ],
      "text/plain": []
     },
     "metadata": {},
     "output_type": "display_data"
    },
    {
     "data": {
      "text/html": [
       "<pre style=\"white-space:pre;overflow-x:auto;line-height:normal;font-family:Menlo,'DejaVu Sans Mono',consolas,'Courier New',monospace\"></pre>\n"
      ],
      "text/plain": []
     },
     "metadata": {},
     "output_type": "display_data"
    },
    {
     "data": {
      "text/html": [],
      "text/plain": [
       "\u001b[1m<\u001b[0m\u001b[1;95mIPython.core.display.HTML\u001b[0m\u001b[39m object\u001b[0m\u001b[1m>\u001b[0m"
      ]
     },
     "metadata": {},
     "output_type": "display_data"
    },
    {
     "data": {
      "text/html": [
       "<pre style=\"white-space:pre;overflow-x:auto;line-height:normal;font-family:Menlo,'DejaVu Sans Mono',consolas,'Courier New',monospace\"></pre>\n"
      ],
      "text/plain": []
     },
     "metadata": {},
     "output_type": "display_data"
    },
    {
     "data": {
      "text/html": [
       "<style type=\"text/css\">\n",
       "#T_abee7_row10_col0, #T_abee7_row10_col1, #T_abee7_row10_col2, #T_abee7_row10_col3, #T_abee7_row10_col4, #T_abee7_row10_col5, #T_abee7_row10_col6 {\n",
       "  background: yellow;\n",
       "}\n",
       "</style>\n",
       "<table id=\"T_abee7\">\n",
       "  <thead>\n",
       "    <tr>\n",
       "      <th class=\"blank level0\" >&nbsp;</th>\n",
       "      <th id=\"T_abee7_level0_col0\" class=\"col_heading level0 col0\" >Accuracy</th>\n",
       "      <th id=\"T_abee7_level0_col1\" class=\"col_heading level0 col1\" >AUC</th>\n",
       "      <th id=\"T_abee7_level0_col2\" class=\"col_heading level0 col2\" >Recall</th>\n",
       "      <th id=\"T_abee7_level0_col3\" class=\"col_heading level0 col3\" >Prec.</th>\n",
       "      <th id=\"T_abee7_level0_col4\" class=\"col_heading level0 col4\" >F1</th>\n",
       "      <th id=\"T_abee7_level0_col5\" class=\"col_heading level0 col5\" >Kappa</th>\n",
       "      <th id=\"T_abee7_level0_col6\" class=\"col_heading level0 col6\" >MCC</th>\n",
       "    </tr>\n",
       "    <tr>\n",
       "      <th class=\"index_name level0\" >Fold</th>\n",
       "      <th class=\"blank col0\" >&nbsp;</th>\n",
       "      <th class=\"blank col1\" >&nbsp;</th>\n",
       "      <th class=\"blank col2\" >&nbsp;</th>\n",
       "      <th class=\"blank col3\" >&nbsp;</th>\n",
       "      <th class=\"blank col4\" >&nbsp;</th>\n",
       "      <th class=\"blank col5\" >&nbsp;</th>\n",
       "      <th class=\"blank col6\" >&nbsp;</th>\n",
       "    </tr>\n",
       "  </thead>\n",
       "  <tbody>\n",
       "    <tr>\n",
       "      <th id=\"T_abee7_level0_row0\" class=\"row_heading level0 row0\" >0</th>\n",
       "      <td id=\"T_abee7_row0_col0\" class=\"data row0 col0\" >0.5748</td>\n",
       "      <td id=\"T_abee7_row0_col1\" class=\"data row0 col1\" >0.5986</td>\n",
       "      <td id=\"T_abee7_row0_col2\" class=\"data row0 col2\" >0.5378</td>\n",
       "      <td id=\"T_abee7_row0_col3\" class=\"data row0 col3\" >0.5573</td>\n",
       "      <td id=\"T_abee7_row0_col4\" class=\"data row0 col4\" >0.5473</td>\n",
       "      <td id=\"T_abee7_row0_col5\" class=\"data row0 col5\" >0.1467</td>\n",
       "      <td id=\"T_abee7_row0_col6\" class=\"data row0 col6\" >0.1468</td>\n",
       "    </tr>\n",
       "    <tr>\n",
       "      <th id=\"T_abee7_level0_row1\" class=\"row_heading level0 row1\" >1</th>\n",
       "      <td id=\"T_abee7_row1_col0\" class=\"data row1 col0\" >0.5634</td>\n",
       "      <td id=\"T_abee7_row1_col1\" class=\"data row1 col1\" >0.6020</td>\n",
       "      <td id=\"T_abee7_row1_col2\" class=\"data row1 col2\" >0.5562</td>\n",
       "      <td id=\"T_abee7_row1_col3\" class=\"data row1 col3\" >0.5422</td>\n",
       "      <td id=\"T_abee7_row1_col4\" class=\"data row1 col4\" >0.5491</td>\n",
       "      <td id=\"T_abee7_row1_col5\" class=\"data row1 col5\" >0.1260</td>\n",
       "      <td id=\"T_abee7_row1_col6\" class=\"data row1 col6\" >0.1261</td>\n",
       "    </tr>\n",
       "    <tr>\n",
       "      <th id=\"T_abee7_level0_row2\" class=\"row_heading level0 row2\" >2</th>\n",
       "      <td id=\"T_abee7_row2_col0\" class=\"data row2 col0\" >0.5845</td>\n",
       "      <td id=\"T_abee7_row2_col1\" class=\"data row2 col1\" >0.6087</td>\n",
       "      <td id=\"T_abee7_row2_col2\" class=\"data row2 col2\" >0.5314</td>\n",
       "      <td id=\"T_abee7_row2_col3\" class=\"data row2 col3\" >0.5692</td>\n",
       "      <td id=\"T_abee7_row2_col4\" class=\"data row2 col4\" >0.5496</td>\n",
       "      <td id=\"T_abee7_row2_col5\" class=\"data row2 col5\" >0.1648</td>\n",
       "      <td id=\"T_abee7_row2_col6\" class=\"data row2 col6\" >0.1652</td>\n",
       "    </tr>\n",
       "    <tr>\n",
       "      <th id=\"T_abee7_level0_row3\" class=\"row_heading level0 row3\" >3</th>\n",
       "      <td id=\"T_abee7_row3_col0\" class=\"data row3 col0\" >0.6083</td>\n",
       "      <td id=\"T_abee7_row3_col1\" class=\"data row3 col1\" >0.6275</td>\n",
       "      <td id=\"T_abee7_row3_col2\" class=\"data row3 col2\" >0.5756</td>\n",
       "      <td id=\"T_abee7_row3_col3\" class=\"data row3 col3\" >0.5920</td>\n",
       "      <td id=\"T_abee7_row3_col4\" class=\"data row3 col4\" >0.5837</td>\n",
       "      <td id=\"T_abee7_row3_col5\" class=\"data row3 col5\" >0.2140</td>\n",
       "      <td id=\"T_abee7_row3_col6\" class=\"data row3 col6\" >0.2140</td>\n",
       "    </tr>\n",
       "    <tr>\n",
       "      <th id=\"T_abee7_level0_row4\" class=\"row_heading level0 row4\" >4</th>\n",
       "      <td id=\"T_abee7_row4_col0\" class=\"data row4 col0\" >0.5537</td>\n",
       "      <td id=\"T_abee7_row4_col1\" class=\"data row4 col1\" >0.5749</td>\n",
       "      <td id=\"T_abee7_row4_col2\" class=\"data row4 col2\" >0.5074</td>\n",
       "      <td id=\"T_abee7_row4_col3\" class=\"data row4 col3\" >0.5340</td>\n",
       "      <td id=\"T_abee7_row4_col4\" class=\"data row4 col4\" >0.5203</td>\n",
       "      <td id=\"T_abee7_row4_col5\" class=\"data row4 col5\" >0.1036</td>\n",
       "      <td id=\"T_abee7_row4_col6\" class=\"data row4 col6\" >0.1037</td>\n",
       "    </tr>\n",
       "    <tr>\n",
       "      <th id=\"T_abee7_level0_row5\" class=\"row_heading level0 row5\" >5</th>\n",
       "      <td id=\"T_abee7_row5_col0\" class=\"data row5 col0\" >0.5660</td>\n",
       "      <td id=\"T_abee7_row5_col1\" class=\"data row5 col1\" >0.5800</td>\n",
       "      <td id=\"T_abee7_row5_col2\" class=\"data row5 col2\" >0.5240</td>\n",
       "      <td id=\"T_abee7_row5_col3\" class=\"data row5 col3\" >0.5472</td>\n",
       "      <td id=\"T_abee7_row5_col4\" class=\"data row5 col4\" >0.5353</td>\n",
       "      <td id=\"T_abee7_row5_col5\" class=\"data row5 col5\" >0.1286</td>\n",
       "      <td id=\"T_abee7_row5_col6\" class=\"data row5 col6\" >0.1287</td>\n",
       "    </tr>\n",
       "    <tr>\n",
       "      <th id=\"T_abee7_level0_row6\" class=\"row_heading level0 row6\" >6</th>\n",
       "      <td id=\"T_abee7_row6_col0\" class=\"data row6 col0\" >0.5467</td>\n",
       "      <td id=\"T_abee7_row6_col1\" class=\"data row6 col1\" >0.5804</td>\n",
       "      <td id=\"T_abee7_row6_col2\" class=\"data row6 col2\" >0.4760</td>\n",
       "      <td id=\"T_abee7_row6_col3\" class=\"data row6 col3\" >0.5276</td>\n",
       "      <td id=\"T_abee7_row6_col4\" class=\"data row6 col4\" >0.5005</td>\n",
       "      <td id=\"T_abee7_row6_col5\" class=\"data row6 col5\" >0.0875</td>\n",
       "      <td id=\"T_abee7_row6_col6\" class=\"data row6 col6\" >0.0879</td>\n",
       "    </tr>\n",
       "    <tr>\n",
       "      <th id=\"T_abee7_level0_row7\" class=\"row_heading level0 row7\" >7</th>\n",
       "      <td id=\"T_abee7_row7_col0\" class=\"data row7 col0\" >0.5757</td>\n",
       "      <td id=\"T_abee7_row7_col1\" class=\"data row7 col1\" >0.6026</td>\n",
       "      <td id=\"T_abee7_row7_col2\" class=\"data row7 col2\" >0.5443</td>\n",
       "      <td id=\"T_abee7_row7_col3\" class=\"data row7 col3\" >0.5566</td>\n",
       "      <td id=\"T_abee7_row7_col4\" class=\"data row7 col4\" >0.5504</td>\n",
       "      <td id=\"T_abee7_row7_col5\" class=\"data row7 col5\" >0.1488</td>\n",
       "      <td id=\"T_abee7_row7_col6\" class=\"data row7 col6\" >0.1488</td>\n",
       "    </tr>\n",
       "    <tr>\n",
       "      <th id=\"T_abee7_level0_row8\" class=\"row_heading level0 row8\" >8</th>\n",
       "      <td id=\"T_abee7_row8_col0\" class=\"data row8 col0\" >0.5475</td>\n",
       "      <td id=\"T_abee7_row8_col1\" class=\"data row8 col1\" >0.5702</td>\n",
       "      <td id=\"T_abee7_row8_col2\" class=\"data row8 col2\" >0.5129</td>\n",
       "      <td id=\"T_abee7_row8_col3\" class=\"data row8 col3\" >0.5265</td>\n",
       "      <td id=\"T_abee7_row8_col4\" class=\"data row8 col4\" >0.5196</td>\n",
       "      <td id=\"T_abee7_row8_col5\" class=\"data row8 col5\" >0.0921</td>\n",
       "      <td id=\"T_abee7_row8_col6\" class=\"data row8 col6\" >0.0922</td>\n",
       "    </tr>\n",
       "    <tr>\n",
       "      <th id=\"T_abee7_level0_row9\" class=\"row_heading level0 row9\" >9</th>\n",
       "      <td id=\"T_abee7_row9_col0\" class=\"data row9 col0\" >0.5683</td>\n",
       "      <td id=\"T_abee7_row9_col1\" class=\"data row9 col1\" >0.5997</td>\n",
       "      <td id=\"T_abee7_row9_col2\" class=\"data row9 col2\" >0.5406</td>\n",
       "      <td id=\"T_abee7_row9_col3\" class=\"data row9 col3\" >0.5487</td>\n",
       "      <td id=\"T_abee7_row9_col4\" class=\"data row9 col4\" >0.5446</td>\n",
       "      <td id=\"T_abee7_row9_col5\" class=\"data row9 col5\" >0.1343</td>\n",
       "      <td id=\"T_abee7_row9_col6\" class=\"data row9 col6\" >0.1343</td>\n",
       "    </tr>\n",
       "    <tr>\n",
       "      <th id=\"T_abee7_level0_row10\" class=\"row_heading level0 row10\" >Mean</th>\n",
       "      <td id=\"T_abee7_row10_col0\" class=\"data row10 col0\" >0.5689</td>\n",
       "      <td id=\"T_abee7_row10_col1\" class=\"data row10 col1\" >0.5945</td>\n",
       "      <td id=\"T_abee7_row10_col2\" class=\"data row10 col2\" >0.5306</td>\n",
       "      <td id=\"T_abee7_row10_col3\" class=\"data row10 col3\" >0.5501</td>\n",
       "      <td id=\"T_abee7_row10_col4\" class=\"data row10 col4\" >0.5401</td>\n",
       "      <td id=\"T_abee7_row10_col5\" class=\"data row10 col5\" >0.1346</td>\n",
       "      <td id=\"T_abee7_row10_col6\" class=\"data row10 col6\" >0.1348</td>\n",
       "    </tr>\n",
       "    <tr>\n",
       "      <th id=\"T_abee7_level0_row11\" class=\"row_heading level0 row11\" >Std</th>\n",
       "      <td id=\"T_abee7_row11_col0\" class=\"data row11 col0\" >0.0176</td>\n",
       "      <td id=\"T_abee7_row11_col1\" class=\"data row11 col1\" >0.0169</td>\n",
       "      <td id=\"T_abee7_row11_col2\" class=\"data row11 col2\" >0.0263</td>\n",
       "      <td id=\"T_abee7_row11_col3\" class=\"data row11 col3\" >0.0190</td>\n",
       "      <td id=\"T_abee7_row11_col4\" class=\"data row11 col4\" >0.0216</td>\n",
       "      <td id=\"T_abee7_row11_col5\" class=\"data row11 col5\" >0.0356</td>\n",
       "      <td id=\"T_abee7_row11_col6\" class=\"data row11 col6\" >0.0356</td>\n",
       "    </tr>\n",
       "  </tbody>\n",
       "</table>\n"
      ],
      "text/plain": [
       "\u001b[1m<\u001b[0m\u001b[1;95mpandas.io.formats.style.Styler\u001b[0m\u001b[39m object at \u001b[0m\u001b[1;36m0x7f993296a390\u001b[0m\u001b[1m>\u001b[0m"
      ]
     },
     "metadata": {},
     "output_type": "display_data"
    },
    {
     "data": {
      "text/html": [],
      "text/plain": [
       "\u001b[1m<\u001b[0m\u001b[1;95mIPython.core.display.HTML\u001b[0m\u001b[39m object\u001b[0m\u001b[1m>\u001b[0m"
      ]
     },
     "metadata": {},
     "output_type": "display_data"
    },
    {
     "data": {
      "text/html": [
       "<pre style=\"white-space:pre;overflow-x:auto;line-height:normal;font-family:Menlo,'DejaVu Sans Mono',consolas,'Courier New',monospace\"></pre>\n"
      ],
      "text/plain": []
     },
     "metadata": {},
     "output_type": "display_data"
    },
    {
     "data": {
      "text/html": [
       "<pre style=\"white-space:pre;overflow-x:auto;line-height:normal;font-family:Menlo,'DejaVu Sans Mono',consolas,'Courier New',monospace\"></pre>\n"
      ],
      "text/plain": []
     },
     "metadata": {},
     "output_type": "display_data"
    },
    {
     "name": "stdout",
     "output_type": "stream",
     "text": [
      "Fitting 10 folds for each of 100 candidates, totalling 1000 fits\n"
     ]
    },
    {
     "data": {
      "text/html": [
       "<pre style=\"white-space:pre;overflow-x:auto;line-height:normal;font-family:Menlo,'DejaVu Sans Mono',consolas,'Courier New',monospace\"></pre>\n"
      ],
      "text/plain": []
     },
     "metadata": {},
     "output_type": "display_data"
    },
    {
     "data": {
      "text/html": [
       "<pre style=\"white-space:pre;overflow-x:auto;line-height:normal;font-family:Menlo,'DejaVu Sans Mono',consolas,'Courier New',monospace\"></pre>\n"
      ],
      "text/plain": []
     },
     "metadata": {},
     "output_type": "display_data"
    },
    {
     "data": {
      "text/html": [
       "<pre style=\"white-space:pre;overflow-x:auto;line-height:normal;font-family:Menlo,'DejaVu Sans Mono',consolas,'Courier New',monospace\"></pre>\n"
      ],
      "text/plain": []
     },
     "metadata": {},
     "output_type": "display_data"
    },
    {
     "data": {
      "text/html": [
       "<pre style=\"white-space:pre;overflow-x:auto;line-height:normal;font-family:Menlo,'DejaVu Sans Mono',consolas,'Courier New',monospace\"></pre>\n"
      ],
      "text/plain": []
     },
     "metadata": {},
     "output_type": "display_data"
    },
    {
     "data": {
      "text/html": [
       "<pre style=\"white-space:pre;overflow-x:auto;line-height:normal;font-family:Menlo,'DejaVu Sans Mono',consolas,'Courier New',monospace\"></pre>\n"
      ],
      "text/plain": []
     },
     "metadata": {},
     "output_type": "display_data"
    },
    {
     "data": {
      "text/html": [
       "<pre style=\"white-space:pre;overflow-x:auto;line-height:normal;font-family:Menlo,'DejaVu Sans Mono',consolas,'Courier New',monospace\"></pre>\n"
      ],
      "text/plain": []
     },
     "metadata": {},
     "output_type": "display_data"
    },
    {
     "data": {
      "text/html": [
       "<pre style=\"white-space:pre;overflow-x:auto;line-height:normal;font-family:Menlo,'DejaVu Sans Mono',consolas,'Courier New',monospace\"></pre>\n"
      ],
      "text/plain": []
     },
     "metadata": {},
     "output_type": "display_data"
    },
    {
     "data": {
      "text/html": [
       "<pre style=\"white-space:pre;overflow-x:auto;line-height:normal;font-family:Menlo,'DejaVu Sans Mono',consolas,'Courier New',monospace\"></pre>\n"
      ],
      "text/plain": []
     },
     "metadata": {},
     "output_type": "display_data"
    },
    {
     "data": {
      "text/html": [
       "<pre style=\"white-space:pre;overflow-x:auto;line-height:normal;font-family:Menlo,'DejaVu Sans Mono',consolas,'Courier New',monospace\"></pre>\n"
      ],
      "text/plain": []
     },
     "metadata": {},
     "output_type": "display_data"
    },
    {
     "data": {
      "text/html": [
       "<pre style=\"white-space:pre;overflow-x:auto;line-height:normal;font-family:Menlo,'DejaVu Sans Mono',consolas,'Courier New',monospace\"></pre>\n"
      ],
      "text/plain": []
     },
     "metadata": {},
     "output_type": "display_data"
    },
    {
     "data": {
      "text/html": [
       "<pre style=\"white-space:pre;overflow-x:auto;line-height:normal;font-family:Menlo,'DejaVu Sans Mono',consolas,'Courier New',monospace\"></pre>\n"
      ],
      "text/plain": []
     },
     "metadata": {},
     "output_type": "display_data"
    }
   ],
   "source": [
    "from pycaret.classification import *\n",
    "exp_rl = ClassificationExperiment()\n",
    "exp_rl.setup(data=data_train, target='shot_made_flag', session_id=3128)\n",
    "\n",
    "model_rl = exp_rl.create_model('lr')\n",
    "\n",
    "randcv_model_rl = exp_rl.tune_model(model_rl, n_iter=100, optimize='F1')\n"
   ]
  },
  {
   "cell_type": "code",
   "execution_count": 16,
   "id": "043d1d05-1693-4154-a954-3a7adaee7e0b",
   "metadata": {},
   "outputs": [
    {
     "data": {
      "text/html": [
       "<pre style=\"white-space:pre;overflow-x:auto;line-height:normal;font-family:Menlo,'DejaVu Sans Mono',consolas,'Courier New',monospace\"></pre>\n"
      ],
      "text/plain": []
     },
     "metadata": {},
     "output_type": "display_data"
    },
    {
     "data": {
      "text/html": [
       "<style type=\"text/css\">\n",
       "</style>\n",
       "<table id=\"T_ceda3\">\n",
       "  <thead>\n",
       "    <tr>\n",
       "      <th class=\"blank level0\" >&nbsp;</th>\n",
       "      <th id=\"T_ceda3_level0_col0\" class=\"col_heading level0 col0\" >Model</th>\n",
       "      <th id=\"T_ceda3_level0_col1\" class=\"col_heading level0 col1\" >Accuracy</th>\n",
       "      <th id=\"T_ceda3_level0_col2\" class=\"col_heading level0 col2\" >AUC</th>\n",
       "      <th id=\"T_ceda3_level0_col3\" class=\"col_heading level0 col3\" >Recall</th>\n",
       "      <th id=\"T_ceda3_level0_col4\" class=\"col_heading level0 col4\" >Prec.</th>\n",
       "      <th id=\"T_ceda3_level0_col5\" class=\"col_heading level0 col5\" >F1</th>\n",
       "      <th id=\"T_ceda3_level0_col6\" class=\"col_heading level0 col6\" >Kappa</th>\n",
       "      <th id=\"T_ceda3_level0_col7\" class=\"col_heading level0 col7\" >MCC</th>\n",
       "    </tr>\n",
       "  </thead>\n",
       "  <tbody>\n",
       "    <tr>\n",
       "      <th id=\"T_ceda3_level0_row0\" class=\"row_heading level0 row0\" >0</th>\n",
       "      <td id=\"T_ceda3_row0_col0\" class=\"data row0 col0\" >Logistic Regression</td>\n",
       "      <td id=\"T_ceda3_row0_col1\" class=\"data row0 col1\" >0.5684</td>\n",
       "      <td id=\"T_ceda3_row0_col2\" class=\"data row0 col2\" >0.5926</td>\n",
       "      <td id=\"T_ceda3_row0_col3\" class=\"data row0 col3\" >0.5328</td>\n",
       "      <td id=\"T_ceda3_row0_col4\" class=\"data row0 col4\" >0.5495</td>\n",
       "      <td id=\"T_ceda3_row0_col5\" class=\"data row0 col5\" >0.5410</td>\n",
       "      <td id=\"T_ceda3_row0_col6\" class=\"data row0 col6\" >0.1339</td>\n",
       "      <td id=\"T_ceda3_row0_col7\" class=\"data row0 col7\" >0.1340</td>\n",
       "    </tr>\n",
       "  </tbody>\n",
       "</table>\n"
      ],
      "text/plain": [
       "\u001b[1m<\u001b[0m\u001b[1;95mpandas.io.formats.style.Styler\u001b[0m\u001b[39m object at \u001b[0m\u001b[1;36m0x7f98ae07f890\u001b[0m\u001b[1m>\u001b[0m"
      ]
     },
     "metadata": {},
     "output_type": "display_data"
    },
    {
     "data": {
      "text/html": [
       "<pre style=\"white-space:pre;overflow-x:auto;line-height:normal;font-family:Menlo,'DejaVu Sans Mono',consolas,'Courier New',monospace\"></pre>\n"
      ],
      "text/plain": []
     },
     "metadata": {},
     "output_type": "display_data"
    },
    {
     "name": "stdout",
     "output_type": "stream",
     "text": [
      "AUC of best-tuned model: 0.5926\n"
     ]
    },
    {
     "data": {
      "text/html": [
       "<pre style=\"white-space:pre;overflow-x:auto;line-height:normal;font-family:Menlo,'DejaVu Sans Mono',consolas,'Courier New',monospace\"></pre>\n"
      ],
      "text/plain": []
     },
     "metadata": {},
     "output_type": "display_data"
    },
    {
     "data": {
      "image/png": "[encoded data removed]",
      "text/plain": [
       "\u001b[1m<\u001b[0m\u001b[1;95mFigure\u001b[0m\u001b[39m size 80\u001b[0m\u001b[1;36m0x550\u001b[0m\u001b[39m with \u001b[0m\u001b[1;36m1\u001b[0m\u001b[39m Axes\u001b[0m\u001b[1m>\u001b[0m"
      ]
     },
     "metadata": {},
     "output_type": "display_data"
    }
   ],
   "source": [
    "from sklearn.metrics import roc_auc_score, roc_curve\n",
    "import matplotlib.pyplot as plt\n",
    "\n",
    "predictions = exp_rl.predict_model(randcv_model_rl, data=data_test)\n",
    "\n",
    "y_true = data_test_y  \n",
    "y_scores = randcv_model_rl.predict_proba(data_test_x)[:, 1]\n",
    "\n",
    "fpr, tpr, _ = roc_curve(y_true, y_scores)\n",
    "auc_score = roc_auc_score(y_true, y_scores)\n",
    "\n",
    "print(f\"AUC of best-tuned model: {auc_score:.4f}\")\n",
    "\n",
    "plt.figure()\n",
    "plt.plot(fpr, tpr, color='darkorange', lw=2, label=f'Curva ROC (AUC = {auc_score:.2f})')\n",
    "plt.plot([0, 1], [0, 1], color='blue', lw=2, linestyle='--')\n",
    "plt.xlim([0.0, 1.10])\n",
    "plt.ylim([0.0, 1.10])\n",
    "plt.xlabel('Taxa Falsos Positivos')\n",
    "plt.ylabel('Taxa Verdadeiros Positivos')\n",
    "plt.title(f'Curva ROC - RL')\n",
    "plt.legend(loc=\"lower right\")\n",
    "    \n",
    "plt.show()"
   ]
  }
 ],
 "metadata": {
  "kernelspec": {
   "display_name": "Kedro (kobe)",
   "language": "python",
   "name": "kedro_kobe"
  },
  "language_info": {
   "codemirror_mode": {
    "name": "ipython",
    "version": 3
   },
   "file_extension": ".py",
   "mimetype": "text/x-python",
   "name": "python",
   "nbconvert_exporter": "python",
   "pygments_lexer": "ipython3",
   "version": "3.11.11"
  }
 },
 "nbformat": 4,
 "nbformat_minor": 5
}
